{
  "nbformat": 4,
  "nbformat_minor": 0,
  "metadata": {
    "colab": {
      "name": "Chevron Challenge",
      "provenance": [],
      "collapsed_sections": []
    },
    "kernelspec": {
      "name": "python3",
      "display_name": "Python 3"
    },
    "widgets": {
      "application/vnd.jupyter.widget-state+json": {
        "eb3a66dbef2f47a398b18138a23352f2": {
          "model_module": "@jupyter-widgets/controls",
          "model_name": "VBoxModel",
          "state": {
            "_view_name": "VBoxView",
            "_dom_classes": [
              "widget-interact"
            ],
            "_model_name": "VBoxModel",
            "_view_module": "@jupyter-widgets/controls",
            "_model_module_version": "1.5.0",
            "_view_count": null,
            "_view_module_version": "1.5.0",
            "box_style": "",
            "layout": "IPY_MODEL_dba99f0c68a94fae818ebd8935444030",
            "_model_module": "@jupyter-widgets/controls",
            "children": [
              "IPY_MODEL_77e97c13828f4eb8a28c8fd524290852",
              "IPY_MODEL_fae01a3c31504c18ba0844239b11e160",
              "IPY_MODEL_43f398ab25fc4ed89d94edea083936b4"
            ]
          }
        },
        "dba99f0c68a94fae818ebd8935444030": {
          "model_module": "@jupyter-widgets/base",
          "model_name": "LayoutModel",
          "state": {
            "_view_name": "LayoutView",
            "grid_template_rows": null,
            "right": null,
            "justify_content": null,
            "_view_module": "@jupyter-widgets/base",
            "overflow": null,
            "_model_module_version": "1.2.0",
            "_view_count": null,
            "flex_flow": null,
            "width": null,
            "min_width": null,
            "border": null,
            "align_items": null,
            "bottom": null,
            "_model_module": "@jupyter-widgets/base",
            "top": null,
            "grid_column": null,
            "overflow_y": null,
            "overflow_x": null,
            "grid_auto_flow": null,
            "grid_area": null,
            "grid_template_columns": null,
            "flex": null,
            "_model_name": "LayoutModel",
            "justify_items": null,
            "grid_row": null,
            "max_height": null,
            "align_content": null,
            "visibility": null,
            "align_self": null,
            "height": null,
            "min_height": null,
            "padding": null,
            "grid_auto_rows": null,
            "grid_gap": null,
            "max_width": null,
            "order": null,
            "_view_module_version": "1.2.0",
            "grid_template_areas": null,
            "object_position": null,
            "object_fit": null,
            "grid_auto_columns": null,
            "margin": null,
            "display": null,
            "left": null
          }
        },
        "77e97c13828f4eb8a28c8fd524290852": {
          "model_module": "@jupyter-widgets/controls",
          "model_name": "DropdownModel",
          "state": {
            "_options_labels": [
              "actual ",
              "result"
            ],
            "_view_name": "DropdownView",
            "style": "IPY_MODEL_20523e87742740af8115450b0f33573a",
            "_dom_classes": [],
            "description": "base_column",
            "_model_name": "DropdownModel",
            "index": 0,
            "_view_module": "@jupyter-widgets/controls",
            "_model_module_version": "1.5.0",
            "_view_count": null,
            "disabled": false,
            "_view_module_version": "1.5.0",
            "description_tooltip": null,
            "_model_module": "@jupyter-widgets/controls",
            "layout": "IPY_MODEL_4609e7fed5d74737b2b871d669e69cb7"
          }
        },
        "fae01a3c31504c18ba0844239b11e160": {
          "model_module": "@jupyter-widgets/controls",
          "model_name": "DropdownModel",
          "state": {
            "_options_labels": [
              "None",
              "result"
            ],
            "_view_name": "DropdownView",
            "style": "IPY_MODEL_7a07a3596a6f4a98a99675479ebe783f",
            "_dom_classes": [],
            "description": "compare_column",
            "_model_name": "DropdownModel",
            "index": 1,
            "_view_module": "@jupyter-widgets/controls",
            "_model_module_version": "1.5.0",
            "_view_count": null,
            "disabled": false,
            "_view_module_version": "1.5.0",
            "description_tooltip": null,
            "_model_module": "@jupyter-widgets/controls",
            "layout": "IPY_MODEL_38b961396c7e46dcbb0bc9592735a3fc"
          }
        },
        "43f398ab25fc4ed89d94edea083936b4": {
          "model_module": "@jupyter-widgets/output",
          "model_name": "OutputModel",
          "state": {
            "_view_name": "OutputView",
            "msg_id": "",
            "_dom_classes": [],
            "_model_name": "OutputModel",
            "outputs": [
              {
                "output_type": "stream",
                "metadata": {
                  "tags": []
                },
                "text": "2D Quant vs. Quant => Scatterplot\n",
                "stream": "stdout"
              },
              {
                "output_type": "display_data",
                "metadata": {
                  "tags": [],
                  "needs_background": "light"
                },
                "image/png": "iVBORw0KGgoAAAANSUhEUgAAA0wAAAIECAYAAAAq4a4CAAAABHNCSVQICAgIfAhkiAAAAAlwSFlzAAALEgAACxIB0t1+/AAAADh0RVh0U29mdHdhcmUAbWF0cGxvdGxpYiB2ZXJzaW9uMy4yLjIsIGh0dHA6Ly9tYXRwbG90bGliLm9yZy+WH4yJAAAgAElEQVR4nOzdeXxcdb3/8dcnS5O06d60pSwta1kKSNmXQtkURLRe2VyQIqggeq+i4gXuD+uGcK8X9cq9gsiigBcRBFEELksLWKCyI/vaUkqbtHRN06RJ5vP743umM5nOmWTSSWYmeT8fjzySfM8y33PO9yyf+S7H3B0RERERERHZXEWxMyAiIiIiIlKqFDCJiIiIiIjEUMAkIiIiIiISQwGTiIiIiIhIDAVMIiIiIiIiMRQwiYiIiIiIxFDA1I/M7KNmdqOZvWlmzWbWZmbvmdndZnaOmQ0vdh7LiZm5mZXkuPhmtjCZvzx+5kXLzkz/v5jM7IYs+Wwxs2VmtsDM/sfMPmJmsdcSM5sXLTezH7Mel5es+9bMpkTpC4uTs82Z2ewoTzcUOy+FZsG/mtlLZtYabefqHPPvFM2TMLPte7D+iWbWHi2zdy/zmCz7s3uzfKnpz/KUdj7Ny/b/YNfba3zmNWpLr1lmVmFm70brWW5m1b1dV6GV+/Wv0MeqFG3Js0ra8Z2T7f9SVFXsDAwGZjYeuBU4Ikp6Bfg/YCOwDXAM8FHgB2a2n7svKkpGpZBuA8ZlpNUDn4r+/k2WZV7t0xxtmeeB56K/q4ExwJ7AAcC5wMtmdoa7P9VXGUgGx+5uffUZ/WmgbU+ezgN+DKwB7gbWAS1xM7v7m2b2CHA4cAYwp5v1n064vz3j7s8XIsNSvqKg93rgN+4+u7i5KSnHAttGf48DPg7cXrzslI4oUDsDONPdbyhubsrPQLy/KWDqY2Y2CpgP7AQ8Dpzj7i9kzDOc8NB5MTAaUMDUM7sVOwNx3P1bmWlmNoUoYCrDm/ad7j4nM9HM9gUuIwT9D5vZke7+94zZPg8MBd7t81x27++EchP7cF5C7gCeIAQVA83Jyd/ufn8Pl7mOKGAys+957reun5m2jAQDuTxJ73wh+r0E2Dr6v1QCJpVXKSlqktf3riQES38HjsoMlgDcfZ27/zuwL9DYz/krW+7+qruXcq3MgOfuTwMfIdSoDQV+Z2ZVGfO8Gx2rogcp7t4S5aUUgrec3H1NlNelxc5LH0h+q/1GHsv8gVATNQWYGTeTmR1ICIpbgd/1LnsDzwAvT5InMxsDfAJw4DSgE/iImU0qasYiKq9SahQw9SEz2xH4dPTvOe7emmt+d38z8+JgZtVm9tWov8haM9tgZq+Y2WVmNjbLZ27qixG1Tz4/6iewwUJ/qSvMbGg072gz+1k0b5uZvWFm58dsy6Z+KGZ2pJk9YGarLPTF+puZfTxmuclmdqGZzTWzxdHnrIz+/0zMMpvaxZrZUDP7oZm9Gm3Dc2nzZe3DZKn+Q1PM7Fgze9DM1ljoe/NEXF6jZbc3s5vMrCn6vJfM7FtmVpm+3rjlCy06/hdH298a5esmM9suxzLbmtnPzey1aBvWmtn8qI1wwavH3T1BqCFtBXYEZmXkJ2sfJjOrtdCP5RlL9elbamaPR8e8NppvTvpxTh73zOOfnC/6PdnMro/KfIeZ/Syap9s212ZWFeXrlWifN5rZb7Lt8+7WZ1n6RuWxPTnb8JvZIWZ2u4X+ZBuj37eZ2UEx86efw/ua2V1m9kG0jc+b2Vlx+yQXMxsWldHnzWx99POcmV1k0bUmMw9Ash/SO2nbPjvX50QB9++jf8/MMWty2p3uvir63E+Z2XXR+bw62uY3zey/zWzbHOvKtr05+zall8OY6Qea2S1R2dxooe/IXWZ2WMz8U6Pytyiaf110LbrDzD6VbZmY9WQtT9b1epv39WZLmdkx0XF4PiqPbdG2/sbMcrYisNB/8o9m9n7aOTDfzL5jZnXRPAsJzfEg1E6mn283pK0rZ59Yi7n+m9nuZvZ9M3ssLR/LzeyvZnZc7/ZKv/gsUAPMc/e/EboJVBKaocUysw+Z2Z8s3MfXm9nTZvaFaFrcPflAM/sPM3vKwvV0Y7Svcl2vCl5ezezDFvqMN1no47gyWvY6M5sezTMl2obkfrg+o8zMzrV/8pW+z8zsLEs967mFFkrJ+XYzs2vN7J1oW1dZeA6Le/aaZGZXWrjOtVp4/nnXzO41sy9lzNvdNavH/cmsh/e3cqQmeX3rY4Sg9B/u/my+C1t4YLyH8G1qCzA3+j0D+A5wmpkd5e5vx6zid1Ee5gFvEpqzfAPYzcw+S6juHg78jdAU8AjgP82s1t0vjVnnJ4GvAi9FeZsMHAr8ycy+6e5XZMx/OvAD4C1CH535hH5bM4CZZnaQu/9zzGfVRnnfDXiE0I9mSMy82ZxFaOb4JPBXYCpwIHCnmZ3i7relz2xm04CHCf1z3gUeAkYBPyT01elv1YR9fGCUr1eAgwk3usPNbC9379JR3syOJDRlGEk45vcS+k4dRHhoOIrQRK6g3H2Fmd1LCJaOJdQ4xbIwSMTdUX7WELZvDTCBcJwuJtTOLiP0nfoNqRtYtv5f6XYGniUEcPMJ17nYAQWy+D2p8+Z54BDCPjvOzA5399fyWFc2+W7PZszsXML+qSCU74cINdmfAj5pZue4+zUxix8HnA+8RnhI2o6wjb82s1Hu/p955GNc9Nl7AquA+6JJRwI/Ak6JrlEro/R7gYXAScAwQvOf5mjamz34yOuAs4FPmdl57r4uIz+1hG/Lk/Mm/Z5QHl4GHiA8KH4I+EqUx0Pd/fWebPOWMLNvAv8R/fsMoZn2NsAJwAmZx83M9iSU4eGE6+efCTUCWxNqdusoXBOqvK83BXIVYR+8RLjOA0wjnHMnmdlHogf6TczMgP8BzomSniJ17d6N0Ez494Sydhvh+nco4T6Uvq4u6+2l8wn3mlcI14u1wA7A8cDxMffFUpBsjndD9Pt6Qp7PJPQv3IyZHUW4btcSyuNzwETgV5Y7uP0R4TnmJUJrmzbCdf5TwCwz+7S7/yHP/OdVXi3Vjy0BLCB0fagn1HbPBl4nnJPNhGvyYYQvAOfT9drUk+tU3szsF4Tr0XzgL8AuhHMdMzstytMQwj78C9BAeI462sx+4O6XpK1rK+BpwrFZRLjuthGuGwcRaul/1RfbQQHubyXL3fXTRz/AbwkF/tpeLv/v0fKvAFunpdcRbgIOPJ6xzJQo3QkXtElp07YFVkTT/kFo4lKbNv2EaNpaYGjGeuelrfdbGdNOBNqBDmCvjGn7A3tk2badCUGJAwdmTJuZ9lnPAhNi9o+HIrxZ+sJoWhtwXMa0f4umvZGRbtFnOXAtUJ02bSrwflqepvTyeE6Jy3OO7X8SGJ82bSThQujAxRnLbQWsjI7DGYBlHPvk9s3OI883RMvM6cG8F0fz/i2m7MxMSzs8SnsaGJblWByapQzm3HeEgQCS++16YEiOfTsvx3nTCOyeNm0IcGM07e89WV+W9S7saflNmz47mueGjPS9CedbJ6EPUPq0ZNOajcC0mOPgwBcypn0uSl+Tud+7Oea3Rss9AoxKSx9NuPE78L85ztG8zyVC0OPAWVmmfTqatgioSEs/JUt5qiJ8mePAPTnK/uyepGcph3My0o+P0pew+TXv0GjfbwR2SUu/LlrmwiyfUw8cnMd+iytPyTKc1/WmUD+EL1lGZaQZ8OXoc18m7VoWTf96NG0ZcFCWZY8CRna37RnLdXc+Zi2zhC8aNyvHhAf55DHdJmafz+uLfdqDfb4PGfd6wpcIH0TpM7IsM5TUffB7dL2/HEJoLht3Tz6OLPdxwrPDxuhzM8/PgpZX4O0o/ZAs+diGtGt+lHYDed4ve3ksktuyGjggy/S9CM8y64DjM6btQeo56si09EuitKuynDs1wOEZaXPIcZ/vwbHYrBx3dz6V44+a5PWthuh3U74LWmhOcG707z+7+5LkNHffQPhmrRk4yMwOjVnNP7v7+2nLLQZuiv6dDJzrac0E3f1u4AXCt5n7xazzKXf/SXqCu/+ZUJtVCXwtY9qT7v5S5krc/Q3CwwqEb5vjnOfuve3X9Qt3vzcj7d8JN7GdMqrtZxC+cV4FfN3d29Py+lpaXvtT8sF2U/lx9zXA5dG/R2fM/3XCg+p/uvtvPLpqRcstBr4Y/fs1+saK6PdmTUWzmBD9ftTd16dP8GC+977P0weEsr+xl8v/wN1fTsvPRsI+Wwvsn+N86y//THjYv8UzvpV191sIX4RUA/8Ss/zt7t5lMAR3v4nwxcwI4s/9LsxsMuHcTQBf9LRvcz00hftiNO0Uy7PZWzeuj37PzjIt2RzvBg9NRZP5uTWzPLl7h7v/P8JD4Iet71/rMCf6fba7L8jIy3zCNaaaECgkJc+TezJX5u7N7v54AfOX7/WmMB/qfqdn1FxF14CrgccINUa7J6dZ6CN5cfTvbHd/IsuyD0V573Pu/rC7L8ySvoBQC1xN6CtUSpK1S5vOC3dvA27OmJ7uJMKXcq8DXQZdcffHCDV+Wbn7vdnu49Gzwx8INYNH5rkN+ZbXCcDqKK+Z+Xgv/ZpfJP/umw+YBKGsDwEucPcu14Ho2SrZjeKraZOS1417049TtEybuz+C5E0BU+nal/AN4vueZRQpd19BaJ4B2TtAtwMPZklPVic/Fa0jU7ITdlzHz5tj0m+My4uFviqfsNAv5WoLfQBuIBUo7RKzzsZsF7c8/CUzIXr4TTZhTN/GI5LLeEYzn0gxOo+/6+7/yJKeHOgi8xh9NPod17ThaUKQ/aGo6VKhJa8niZxzBc8QakLOMrOvmNmE7hbIwwMxx7CnbspMiB7ocp1v/SlZVm+ImZ4MhmbGTN/svIjElas4Mwjf5j/hWZopRg8gCwjl4vAerrMnfkuoRT3MzHZKJkZB2dGkahi7MLNdzOyfzey/oj4LyetQVZTHnTKXKZSo6eIBhKD7/2Jmezj6fXBaWvIB6ioL/TFr+iiLkP/1pmDMbBsz+7KZ/TTqp5E8NhOjWdLvEfsRhsB+L8sXYkVhZsPN7DQLfYt/lZb/mdEscfe4fheVoWT/4czzJPn/yWZWnzEted35ffqXEWly3iPNbFzUF+YnZvbrtH00LZol332Ub3n9OzDKzH5rZvtEzTpLyR8zE6Km68cRrmlxzdxzXTcuN7NZZjasYLkcxNSHqW8tj36P78WyW0e/38kxT/LBf+ss05a5e2eW9GR/gfdi1pmcHvdAHZefhdHvbdITzexgQrOdbTIXSDMiJn1Lh1ePGwltbfQ7fRuT+zDrZ7r7GjNbQ6jy7y/55B9Cu3mAJ3twLxhLaBpUSMn3Tq3MORfg7m+Z2TeAnwD/Dfy3mb1N+Eb5T8AdMeW3J7ak3KzO/LY7zcLod66y3B+6uzbkui5A/uWqt/lI5uXgHHnJm7s3mtlfCe+MmU1oZguhGWoF8FD6N/5RjcT/EPo+5Tox4q5DhZAc5GIE0NHN+dmQ9vd/EPVTIARabRYGvnkYuCnmgbG3ClUu8mJm3wMuIvfzSPqxmRz93tK+hAVhZp8gfEkxJsdsfVm28jWLkNc3oprNTdz9WTN7ntDs91RC8/SknPfIHOmY2ZeBKwjN+uLku4/yLa9fIXxZdHr0s8bM/k7o0/hbd1+W5+cXWrb9N5bUfmnK47pxI/BhQmB8B9BpZi8Smk7fsoVfRA9aCpj61tOEE3P/LViHdz9LVt19y9+TWoAtYmGErDsI1cPXAr8k1HCtc/eEmX2Y0Ek87iqwYQuz0JttzLW/+3yfbeHnVUa/kx3cc2nLPzvd2jf63aOHOHf/hZn9gXADPyz6+Vz085yZHeHua3OtI8aWlptC6sta/L66NuSrt/nYEtcRAqbPm9kl0Tfes9OmpfsXQvPA9wnNVx4DmqImSJjZY4SgrlDfOGc75slzcw1wZzfLb6r5j5pLHWNhqPTjCH2dDib0j7nAzL7r7t/f8iwD/X99w8Iof5cQ+mecTxhAZGnU7Bwz+x2hX1r6sSlGeYMsx9XMtgH+l9Cv+MfR3wuB9dE97kvA1RSubBVCsrndSDPLNujF+LT5rs0yPW7/Zy0/ZrY/4d7fAXybUFP/HtDi7m5mlwIXkv8+yqu8uvsrZrYrYbCUowjn0pGEQYq+a2afKmaNZbLMZ0heNzrJ0vIhx7oSwGfN7MeEAYwOjX6+BnzNzK5z93xGRVVrNBQw9bW7Cd+q7Glm+3h+I+Ulv/3fPsc8yRqFQtcU5DKlm/T0vBxOCJaedvezsyzTZ01geiHZ12tytolmNoLQP6iULSbs0x9k6zfWl8ysgXAjAujpi0iJvtW7KvrBzPYmfDv2IeBfCd8896dRZjYypv/DlOh3ehlP9pPKbL6SlLU8baElhNGbdiCM+pWpv64LyfXvkGOevsrL3YTBObYljBKVHNJ+DZs3bUm+JPfL7p6tOWK+16HeHPPF0e9278VLq6P+MAsAzGwI4Zvja4A5Zvb7bE0iy0Ty2Fzk7r/OMj3bsUnWLEwtcF7agWozq3f35vQJZlZN6L+T6WNEIxW6e7ZrVSnd45LNVo+J/h1P7tYvh5jZ1LSylfMeSfyzwacIwdB/eUb/50i/7SMPfZP/Ev1gZqOB7xK+VLmWAtaEF8gKwheAdcBXM8tld9z9ReBF2NS876OEppNfiK4byebBxbiPlR1FjX3I3d8k9d6QX3bX/tzMdoyGg4RUf5OtzWyzzrYW3sF0YvTvvMLkuEc+2036vLS0ZBOFxWSX9T1MRZLsBPmxLG23IfU+rVKW7BB6cs65Ciy6EP8PoQnE68BdvV2Xuz8P/Dz6d++Mye3R5/X1Fz2blXEzG0l4OIKuZTwZCOwYPVRl+miWtKTebk+yzXrc8PDJgQ/m5bnefD1K+Lb5IDPbrP9BNMzwgYRvggvaydjdO0j1mzyT1Db/b5ZvamOvQ2Z2LF2bsvRE8pjvmmV9dWTpO+Zh0J5/AOMs431k+XL3je5+A+G1EEYYRatc5To2uxFGc8v0NOFBchsz+0iW6dkkHwhznWuxx5XQvCnbsrnyX0MIFkrJbFLNVi3uh9CMHroO/pA8h0+JrvmZ4u6RufZRA6GGpyiiwWm+TbhGTYryk9STMtOnouvcA9G/uQbH6sm6EtEXRn+KktLvr7muaUao3c5Xf92v+40Cpr73VUI7/gOBhyy8V6MLCy9+PJ9wI5gAm6pnr4pm+XlaIJV818gvCd8GPJHZDrmP7R/1PdnEzD5KaEbVSRgVKCnZ+fKoqCo8OX+FmV1CqCIuFQ8THmjGAFekn+RmtjOh2Uip+w9C++2LzOy8bBcqM9vDzP6pUB9o4WV/9xEu5uuBz/Sk75GZHWVmH83Mo5lVkgoyMtt0Jy/qOV9mWQCXWNo7RaJA6OdEQ9Z62jth3H0RoZZnFPDN9JWY2SzCiHZxers9/0Vo3vJpM/tkxmeeTBhCuz2ar89E23474T5ydRRUJvMxitAUqYIwElfclyZbItn0bhapLwkym+NB6jp0bvqDnoUXi1+VZf7uJAfTOd3MNtVyRMHSLwnvtcrm/0W/b4qaI3dh4eXYR1naizwtDIiyWU2Kme1AGFIYtryvZzElj80Xo5ozAMxsPOH9LZtdw6JaguR7gq43sy7vyLPgyPTySM/OteRxvSQjL3sAv+gm/5+ytIFrouV/Qe7a134VPfjOjv69Mces6dNPj67JEAYTaiQ8VF9saR1qoiaj58WsK7mPPp/+ZaSFUSmvI1w7+5SZDTWz8zMCoqQTCNeptXR9X19/3W+6833C9fznFgYW6dJ0MSrvB6RfU8zs89G9mYx5x5IaHCL9ujGXEDQeZ2mjwEbH/kf07j2UpbL/CsdLYGzzgf5DqMpPfhvrhBeP3U5o7/wIob9J8p0S26UtV0soyE6obbqLUGOVfBfCImCHjM+aQsx7X6Lps8nxPgri3z0yL0r/OSEwep5Qtfu3tO36dpb1JV+02EqoAbmF8IDZThj+c7Mx/OnhOyqSn5slfSFZ3peRZVtmZqTvTRhW3KN1/G+U51bCCDWLommTcuUrR36nxOU5n+3PdYwJbbKT79J4n9A87mZCE6bk+xpuySPPyfLwXPT3DWnrW5x27P8BTO/p/ib1HpXVhH4LNxP6uyXL9lJgcsZ6roimNUXl6NfAr9OmzyHHuyRy7du0fbqI0KSrLa28JvfbcjLe1REtezLhZuOELz3+EO2vBOGlx3HHqrvtmU3MuUrowJz8zCei/bcg+r8T+FJPy31353435WNcdOw9Kne3Rz8r08rNmHzP0Tw+//H0Mhgzz8GEb4udMFDALUQDKET7JPm+qMzrQez+IHVdW094KeRfCNfv90m9O2mzckjop9ORlpe7CNfRh0hde85Jm/+5KO0twjfDNxMe7Nui9M3ecZVjX2UtT2zB9WZLfwgBxepo/e8Szp2/EPo0vUy4JmS7HxmhSaJH58Hfo/14L6nzdUra/DWEa4oTXnL7G8L5dmbaPMkmnU4YyOQ2wv2tjRBAbFZmCQHdM1H62uh43kp4WGwm3C/z3ud98UO4NzjQAgzvZt4qwnXJgRPT0o8l9bzyclrZ7SB1PduYsa7RacekiXB9vYNwvVhKaAq32flSyPJKCMo8yuez0TG6hfAep2QZOidjPR8iXEs7CV8KXhuVmc3e47SFx6UnzwSnRcct+WzyV0KfpvsIQawDl6XNf2eU9h7hfLqJcD9rjtIfIe1dk9EyVyaPH+Eacwfhfri2N+WYbu5v5fhT9AwMph9Ck56bCTVO6wkX4mSB/iIZL/CMlqkmdNT7O+Em0kr4xuZyYGyW+Te7WGRMz3oRSpt+A7kDppmENtAPEW4u6wkPHLNi1jcE+A6hHe0GwkPnXYQat6wnW66TMGO+rBcaehkwRdN2jI7R8mhfv0LoS1MTHa9O0l72m+fxnxKX53y2vwfHeCLhW6Hn0srMwmi7/xXYMY88J8tD+s8GwkX6CUJTvA+T8XK87vZ3tJ/nROXo3SiPKwgPH5cADVnWUwf8J+H8ST4Ae9r0OWx5wLSQ8LDwb4QH2lbCBf/GuPIULf9xwsN7C+EGM4/Qpyv2WPVge2aT+1w9lPDw0Uj4AqKREKxkfZlptuPQk3O/B2WkPtpfL0Tb30L4QuUislzTenKO5vHZX0wrl9/IMd/epIKaDYSHvUsI53XW/ZJrfxC+zPox4cF6IyFQupZw7uUsh1Fefk0YAGcD4Rx9nRAQnU1agEm4Z1xFeMhbTrgGvUsI+E4m7eW8PdhXWcsTRQyYovVvT/hyajHhfHsrOi9Gdlcmo/3zF8I5upHwAP4ooZlVbca8yTLwAeE6nm1fTIuOw6ro2PyDUEtscWWW8N7Cy0ldL5ZG2zO1t/u8j/Zz8uXbv+vh/P8VzX9HRvp0wj18FeFcfxb4EqE/oRNehZK5rvGEGue3ozK8mBDwbhV3vhSyvBKu6ecQHtxfJTy7tBBeo3IzGS+STlvuJMJ9btNLeePK4hYcl26fCaL5diQELi8TnrvWR+fKfVEZnZQ27wzgZ4TnxmXRPl9CCJS+ANRkWX8FcEG0f9oI15tbCcO9530s6Ob+Vo4/Fm2YSE5mNo/wHoYj3X1ecXPT/8xsBuFi86K7b9asUkREZLAys9MJ70j7i7uf2N38IuVGfZhEImZWn953JS19N+BX0b839GumRERESoCZjTezyVnSDyL0oQXdI2WAGjCjV4gUwETgZTN7g1BV30yo3t+X8D6Eh+jjjvQiIiIlai/gfgsvQU02R92B1GiGN7r77cXKnEhfUsAkktJE6Kh4FKGP1UhCO+EFhLbPV3kYoUlERGSweZUwEuQRhBeNDyf02XyIULPU45eripQb9WESERERERGJoT5MIiIiIiIiMQZ8k7xRo0b5TjvtVOxsSBGsX7+eYcOGFTsbUgQ69oOXjv3gpWM/eOnYD16FPPZPP/30CnfP9oLjgR8wTZgwgaeeeqrY2ZAimDdvHjNnzix2NqQIdOwHLx37wUvHfvDSsR+8CnnszWxR3DQ1yRMREREREYlRcgGTmV1oZm5mV6almZnNMbP3zWyDmc0zsz2KmU8RERERERn4Sipgil5+9iXghYxJFwDfBL4G7E8Y/vl+MxvevzkUEREREZHBpGQCJjMbCdwMfAFYlZZuwNeBy9z9dnd/ETiDMP7/Z4qRVxERERERGRxKJmACfgXc5u5zM9K3ByYC/5dMcPcNwCPAIf2XPRERERERGWxKYpQ8M/sisBPwuSyTJ0a/GzPSG4GtY9b3JULTPhoaGpg3b15hMiplpbm5Wcd+kNKxH7x07AcvHfvBS8d+8OqvY1/0gMnMpgKXAoe5e3sh1unuvyLUWDF16lTXUJODk4YZHbx07AcvHfvBS8e+xC1cCDfeCI8+CitXFnTVra2t1NbWFnSdUh66PfZjxsCMGXD66TBlSq8/p+gBE3AwMA54KXRXAqASONzMzgGSo+FNAN5NW24CsKy/MikiIiIivbBwIXz5y3DKKXDDDTBxIlQUrldI+7p11A7XOGCDUc5jn0jAsmVwzz2h/F19da+DplLow3QnsCfwobSfp4Bbor9fJwRGxyYXMLNaYAbwWH9nVkRERETycOONIVg66yyYNKmgwZJIrIqKUN7OOiuUvxtv7PWqil7D5O6rgdXpaWa2HlgZjYiHmf0MuMjMXiUEUP8GNAO/6+fsioiIiEg+Hn001CyJFMvxx8Ps2b1evOgBUw/9O1AH/DcwGlgAfNjd1xU1VyIiIiKS28qVoRmeSLFMnLhFfedKMmBy95kZ/zswJ/oRERERkXKiZnhSTFtY/lR6RUREREREYihgEhERERERiaGASURERESkj82bN4+amhqGDBnCfffdFzvfk08+yVe/+lX22GMPhg0bxnbbbccpp5zC66+/vsV5WLJkCaeeeiqjR49m+PDhnHjiibz55ps9Wnb27NmY2WY/u+66a5f5Fi5cyKc//Wl23nln6uvrGTVqFAceeCC//e1vCb1sunrwwQc56qijaGhoYOTIkUyfPp2rr76aRCLRZb7W1lYuu+yyTftl0qRJnHbaaTz11FO93yE9VJJ9mEREREREBooXX3yRWbNmsd1221FVVcVJJ53Ew/twCsYAACAASURBVA8/zPTp0zeb9/LLL2f+/PmcfPLJ7LXXXixbtowrr7yS6dOn8/jjj7Pnnnv2Kg/Nzc0ceeSRrFmzhgsvvJDq6mp++tOfcvjhh/P888/T0NDQ7Tqqq6u57rrruqSNHDmyy/9Lly6lqamJ0047jW233ZaNGzdy//33c8YZZ/Dyyy9z2WWXbZr3rrvuYtasWRx44IFccsklVFZW8qc//YlzzjmHd955p8u8n/3sZ/nTn/7E2Wefzde//nWampr45S9/yWGHHcaCBQvYe++9e7VfesTdB/TPLrvs4jI4zZ07t9hZkCLRsR+8dOwHLx37Erbvvn26+rVr1/bp+vPV3Nzc5f/Fixf7Ntts47vssosvWbLEly1b5rvvvrtPmDDB33777c2Wnz9/vre1tXVJe/31172mpsZPO+20Xufr8ssvd8Aff/zxTWmvvPKKV1ZW+re//e1ulz/jjDO8pqam15//sY99zOvq6nzjxo2b0o499lifNGmSt7a2bkpLJBK+7777+vjx4zelvffeew74+eef32Wdjz32mAN+wQUXdJ+Bbsoh8JTHxBNqkiciIiIi0gtz5szBzHjxxRc5/fTTGTNmDNOmTds0fc2aNRx//PHU19czb948Jk2axIQJE5g7dy4NDQ0cd9xxrFixoss6DznkEIYMGdIlbeedd2aPPfbg5Zdf7pK+Zs0aXn31VdasWdNtXm+77Tb22WcfDjrooE1pu+66K0cffTS33nprj7c5kUiwbl3+b/aZPHkyGzZsoK2tbVPamjVrGD16NDU1NZvSzIwJEyYwdOjQTWlr164FYKuttuqyzonRcPXp8/ZGIktTwXQKmEREREREtsCpp57KqlWr+OEPf8i//Mu/ALBx40ZmzZpFIpFg3rx5XR72x48fz9y5c6mtreXEE0+kpaUl5/rdncbGRsaNG9cl/Y477mC33XbjjjvuyLl8IpHghRdeYL/99tts2gEHHMCiRYtYtWpVt9u5ceNGRowYwYgRIxg9ejTnnntubPDU0tLCihUreOedd7j++uu5/vrrOfjgg6mvr980zxFHHMFLL73ERRddxBtvvME777zDFVdcwX333cdFF120ab6ddtqJrbfemp/85CfceeedvPfeezzzzDOcc845TJw4kbPOOqvbvGeTcGddu9PUmns+9WESEREREdkCu+66K7fffnuXtCFDhjB37tzYZcaNG8fzzz/fo/XffPPNLFmyhO9+97u9yt/KlStpa2vbrIYGUrU277//PqNHj45dx1ZbbcUFF1zA9OnTSSQS3HvvvVx11VU899xzPPLII1RXV3eZ/9JLL+VHP/rRpv+PPvporr/++i7zXHLJJSxcuJDLLruMH//4x0DYb9dddx2f//znN81XXV3Nbbfdxuc+9zk++clPbkqfOnUqjz32GNtss00eeyMESus7oLkDctctBQqYRERERKTsPLMywZ3vO8taapk4tJNZk4zpY4rTeOrcc8/ts3W/+uqrnHfeeRx00EF84Qtf6DJt9uzZzJ49u9t1bNiwAaBL07ek2traLvPESQY0Saeddhq77LILF198Mb///e/53Oc+12X6mWeeycyZM2lqauKuu+5i+fLlm31GbW0tU6dO5eMf/zgnnXQS1dXV3HzzzZx99tmMHDmST3ziE5vmHTt2LHvttRezZs3isMMOY8mSJfz4xz/mhBNO4JFHHtms9i2bfAOlJDXJExEREZGy8szKBNe87axqg2GV4fc1bzvPrEx0v3Af2HHHHftkvcuWLeOEE05g5MiR3H777VRWVvZqPXV1dQBd+g8ltba2dpknH9/4xjeoqKjggQce2GzajjvuyDHHHMNnPvMZbrnlFrbffnuOOeaYLkHTV7/6Vf74xz9uqj069dRTueuuuzj44IM599xzaW9vB0JfpxkzZrD//vvzk5/8hFmzZnHeeedx11138cYbb3D55ZfnzKe7k3BobIV1eQZLoIBJRERERMrMne87VQa1lWDR7yoL6cXQm2CjO8kBI1avXs29997LpEmTer2uMWPGUFNTw9KlSzeblkzrzfrr6uoYO3YsK1eu7HbeU045hcWLF/PII48AoT/Utddey8c+9jGqqro2evvEJz7B0qVLeeuttwC4/fbbaWxsZNasWV3m23nnndltt9149NFHs36mu9OZcNodEuQfKCWpSZ6IiIiIlJWmVqjPqGypqaDbzvvlorW1lRNPPJHXX3+dBx54gN13332L1ldRUcGee+6Z9SWvCxYsYLvttsvZfynOunXrWLFiRY/e4ZSsWUqO6PfBBx/Q0dFBR0fHZvMm05K/Gxsbu/yfOW9merJGqTOPbclFNUwiIiIiUlbG10JbRuu7tkRIL3ednZ2ceuqpPP744/zhD3/g4IMPjp03n2HFTzrpJJ599lkWLFiwKe21117joYce4uSTT+4y71tvvbWpdgdCAJdtNLwf/OAHuDvHHXfcprSmpqbN5nN3rrnmGsxs08t6x48fz6hRo7jzzju7NNPr6Ojglltuob6+nl122QUIgzsA/O53v+uy3meeeYbXXnuNfffdd9PnJGuUChUsgWqYRERERKTMzJpkXPO209oZHmZbO6HDQ3q5++Y3v8ldd93FiSeeyMqVK7npppu6TE8fXOGOO+7gzDPP5Prrr+928IevfOUrXHPNNXz84x/nW9/6FtXV1VxxxRU0NDTw7W9/u8u8Rx99NAALFy4EQl+qffbZh09/+tPsuuuuANx333389a9/5dhjj+VTn/rUpmW/853v8MYbb3D00Uez7bbbsnz5cm677TaeeeYZvva1r7HTTjsBUFlZyQUXXMBFF13EAQccwOzZs6mqquLmm2/m2Wef5dJLL930PqoTTzyRadOmcdlll7F48WJmzJjB4sWLufLKKxk6dCjnn38+nQkvaJCUTgGTiIiIiJSV6WMq+CLJUfKMiUMp6ih5hfTcc88B8Oc//5k///nPm03PHI2up4YPH868efP4xje+wQ9/+EMSiQRHHHEEV1xxBRMmTMi57KhRo/jYxz7G/fffz29+8xs6OzvZaaed+NGPfsS3vvUtKipS+/2Tn/wkV111Fddccw0rVqygrq6OvfbaixtuuKHLUOEAF154ITvuuCM/+9nPuPTSS1m/fj277bYb11xzDWefffam+aqrq3n00Ue59NJL+fOf/8ztt99OXV0dhx56KD+69Mdsv/MufRYsAZh382bbcjd16lR/7bXXip0NKYJ58+Yxc+bMYmdDikDHfvDSsR+8dOxL2H77QZa+M4Wybt06hg8f3mfrl9KT7KO0vrmZ2rQX4eZSsf/+NP3tydjpWw+teNrdN3+zL6phEhERERGRMlDowRx6SgGTiIiIiIiUrGIFSkkKmEREREREpOS4O53RO5SKSQGTiIiIiIiUjFIJlJIUMImIiIiISNGVWqCUpIBJRERERESKplQDpSQFTCIiIiLStxIJqCj/dyRJYfVboJTYsk9QyRURERGRvjNmDCxbVuxcSAlxdzoSTnt/1SotW4aPHtPrxRUwiYiIiEjfmTED7rmn2LmQEtDvgVKk4p57aD3ksF4vryZ5IiIiItJ3Tj8dvvzl8Pfxx8PEiWqeN8gUpY9SIgHLllFxzz0kbv0DLb+4qterUsAkIiIiIn1nyhS4+mq48UaYPRtWrizo6qtbW6G2tqDrlMJwIOHhNxS+aVt1WysVNfHH3kePYcMhh9Hyi6vonDyl15+jgElERERE+taUKfD//l+frPqJefOYOXNmn6xbeqfTnXXt0NLZt5/z0hMPs8dBR/Tth6CASURERERECqC/AqX+poBJRERERER6baAGSkkKmEREREREJG8DPVBKUsAkIiIiIiI9NlgCpSQFTCIiIiIi0q2BGii9s95zTlfAJCIiIiIisQZioJRw56W18ECj81Zz7nkVMImIiIiIyGYGYqDUkXCeWgUPNjpLW3u2jAImERERERHZpCPhNHcMrECptdN5bAU81OSsbk+l7zocjp1g3JFjWQVMIiIiIiIyIAOlte3Ow8udR5bDhmi7DJg+OgRK2wy1btehgElEREREZBAbiIHS8lbnwSbniQ+gIxrTodrg4HFw1HhjXE33gVKSAiYRERERkUFoIAZKi9Y7DzQ6z62G5Nh3QyvhiAY4vMEYXt3zQClJAZOIiIiIyCAy0AIld+eVdWHEu9fXpdLHDAm1SQePhZrK/AOlJAVMIiIiIiKDQEfCWdeR6stT7hLAkytDjdKSDan0revgmAnG9NFQab0PlJIUMImIiIiIDGADLVBq63Qe/wDuq96fdQtTL53dpT4ESruNACtAoJSkgElEREREZAAaaIFSc4fzcFMY8W59J2C1GLD3qBAoTRlWuCApnQImEREREZEBZKAFSh+0hRHvHl8B7VGFUpXBLh1LOWnPSYyv7ZtAKUkBk4iIiIjIANAeDeYwUAKl91qc+xudZ1eF/koAdZUwYxzMHG8sfvpNxtdu3ef5UMAkIiIiIlLGBlKg5O683gz3L3NeTRvxblQ1HDneOHQc1G7BiHe9oYBJRERERKQMDaRAKeHh3UkPNDrvtqTSJ9aG/kn7jYaqiv4NlJKKHjCZ2XnAl4EpUdJLwA/d/e5o+g3AGRmLLXD3g/orjyIiIiIipaI96qPUOgACpY0J5+8fwINNzvK2VPqOw+CYicYeI6CigCPe9UbRAybgPeA7wBtABSE4utPM9nX3F6J5HgBOT1tmY/9mUURERESkuAZSoNTSEUa7e3h52KakvUaGGqUd6osbJKUresDk7n/KSLrYzM4FDgaSAVObuy/r35yJiIiIiBTfQAqUVm105jY581dAWzSSQ6XBAWPg6PHGxLrSCZSSih4wpTOzSuBkoB54LG3SYWbWBKwGHgYudvemImRRRERERKRfDKRAaekG54FG58mVqRHvaivgsGjEu1FDSi9QSjJ3736uvs6E2Z7A40At0Ax8Nq0P02lAC/AOoZ/TD4FKYF93b4tZ35eALwE0NDTse+utt/b1JkgJam5upr6+vtjZkCLQsR+8dOwHLx37wWsgHnsHEp4KLMqVA0ttBM9VbsOiirGb0of6RvbqXMLuiaXU0PtosLW5mdoCHfsPH3Xk0+6+X7ZppRIwDQG2A0YCJwFfBGa6+4tZ5p0ELAJOdfc/drfuqVOn+muvvVbgHEs5mDdvHjNnzix2NqQIdOwHLx37wUvHfvAaSMd+oNQoJdz5x5ow4t0761PpDTWhf9IBY6C6ACPevfTEw+xx0BFbvB6ArYdWxAZMJdEkz903Am9G/z5tZvsD3wDOyjLv+2b2HrBzP2ZRRERERKRPDJRAqT0Rmtw92Og0prUDmzwUjp1g7DWq+CPe9UZJBExZVAA12SaY2Thga2Bpv+ZIRERERKSABkqgtKHT+dtymLvcWdueSt9jRKhR2qkerAwDpaSiB0xmdhlwN7AYGA58BpgJnGBm9cAc4HZCgDQF+DHQBNzR/7kVEREREdky7QlnXTu0lnknpTXtYcS7vy1PbUsFsN8YOHqCsXUJjnjXG0UPmICJwE3R7zWEocSPd/f7zKwO2BP4PDCKEDTNBU5x93VFyq+IiIiISN4GSqDU2Oo82Oj8fSV0RMMhDKmAQ8bCUROMMSU84l1vFD1gcvfZOaZtAD7Sf7kRERERESmsgRIovbPeeWCZ88KaMAIeQH0VzGwwZjTAsKqBFSglFT1gEhEREREZiAZCoOTuvLwW7m903mxOpY8bEprdHTgWhhRgxLtSpoBJRERERKSABkKg1OnO0ytDoLS0NZW+bR0cO9HYexRUlvFADvlQwCQiIiIiUgADIVBq63Qe+wAeanRWpY14t+vwMOLd1OHlPeJdbyhgEhERERHZAgMhUFrX7jy83HlkObREw5wbMH10CJS2HTq4gqR0CphERERERHphIARKy9uchxqdJz6A9mgkh2qDg8fBUeONcTUDO1CqrYRhlbnnUcAkIiIiIpKHgRAovdsSRrx7dnVqxLuhlXB4AxzRYAyvHriBUoWFIGloVc/6YSlgEhERERHpgfaEs64DWjuLnZPecXdeXRcGcng97Y2mo4fA0eONg8dCTeXADZSGVIRAqbYyv35YCphERERERHIo90Cp051nV8EDjc57G1Lpk2rDiHfTRw/sEe+GVsKwKqju5fDnCphERERERLIo90BpY8J5fAU81OR8sDGVvnM9HDvB2G3EwB3xrtJCoNTTZne5KGASEREREUnTnnCaO2BDmQZKzR1htLuHm5z1aSPe7TUqBEpThg3MIAmiZndVUFfApoUKmEREREREgI6oRqlcA6WVbc5DTeE9ShujASmqDA4cG/ooja8dmIGSAXVb2OwuFwVMIiIiIjKolXugtKTFeaDReXoVJAfuq6uEGeNg5nhjxAAd8c6AkdVhWyv6sGmhAiYRERERGZQ6oqZ3LWUYKLk7bzSHgRxeXptKH1UNR443DhlX2GZppaQ2anZXZTCsqu+3UQGTiIiIiAwqnR7eo1SOgVLCnedXh0BpUUsqfWItHD3B2H80VPVBs7RiqyAM4DC0sv+3TwGTiIiIiAwK5RwotSecBSvhwUZneVsqfYdhYSCHPUb2bbO0Ygm1SCFQKtaIfgqYRERERGRAK+dAqaXDeXQFzGsK/ayS9hwJx0wwdqwfeEEShJfLDqssjRfpKmASERERkQGpnAOlVRuduU3O/BXQFo3kUGmw3+gQKG1VV/xAotAqLARJhXh3UiEpYBIRERGRAaXTw2AO6zu6n7fULN0QRrx7cmVqxLuaCjh0XBjMYfSQ0gkkCmVIRQiUaovY7C4XBUwiIiIiMiCUc6D0VrNz/zLnxbQR74ZXhWHBZ4yDof0wGlx/G9qH704qJAVMIiIiIlLWyjVQSrjz4pow4t3b61PpDTVhxLsDx5R+MJGvymgQh7rK0mp2l4sCJhEREREpS53udDo0thY7J/lpTzhPrQyBUmPaiHeTh4b+SXuPGngj3g2pgPoqqC2BQRzypYBJRERERMpKeo1SovvZS8aGzjCIw9wmZ017Kn33EWFo8J3qS7MPT28ZoSapHJrd5aKASURERETKQqc766NAyYudmTysaXfmNTl/WwEbohH7KoB9x8Ax442th5ZvMJFNVVqzu4FQU6aASURERERKWrJGqaXMAqXGVufBRufvK6EjyviQ5Ih3DcaYmvIPJtLVVoRAqRTenVRICphEREREpCSVa6C0cL1zf6PzwupUvuur4IgGY0YD1A+gEe8qCO9NGlZi704qJAVMIiIiIlJSyjFQcndeXgv3NzpvNqfSxw4JI94dNBaGlHE/nkzV0buT6kr03UmFpIBJREREREpCOQZKne48vTIESkvTRuvbpi4M5PCh0QOr5qW2MtSWDaTgrzsKmERERESkqMpxMIe2TuexD+ChRmdV2oh3U4eHQGnq8IFT81JhoTZp6ABudpeLAiYRERERKYpyDJTWtTsPL3ceWQ4t0Yh3BuwzOgRK2w6gEe+GRM3uagdBs7tcFDCJiIiISL9KRIFScxkFSsvbnIcanSc+gPYo09UGB40NfZTGDaAR74YOgHcnFZICJhERERHpF4m0GqVyeeHsuy3OA8ucZ9NGvBtaCYc3hFHvhlcPjKCiMu3dSYOx2V0uCphEREREpE+VW6Dk7ry6Dh5odF5bl0ofPQSOGm8cMnbgvGuoJnp3Uu0A2Z6+oIBJRERERPqEu7O+E5rbyyNQ6nTn2VUhUHpvQyp9Ui0cM8HYd8zAqH0xwgAOQyvV7K4nFDCJiIiISEFtCpQ6IFEGnZQ2JpzHV8BDTc4HG1PpO9eHQGn3EQNj0IOqtGZ3FQNge/qLAiYRERERKQh3p6UT1pVJoNTcEUa7e7gpBHgQal/2HhUCpSnDBkZQURs1uxsozQj7mwImEREREdki5RYorWxzHmoK71HaGLUVrDI4cGzoozShtvwDiwpCs7thg/TdSYWkgElEREREeiUZKDV3QGcZBEpLWpwHGp2nV6X6VNVVwoxxMHO8MWIAjHhXHb07qW6QvzupkBQwiYiIiEjeWjqcdWUQKLk7bzSHgRxeXptKH1UNR443DhkHdQOgqVpd9O6kIRrEoeAUMImIiIhIj7V0OM0d0FHigVLCnedXh0BpUUsqfWI04t1+o6GqzIOLCgu1SUPV7K5PKWASERERkW6VS6DUnnAWrIQHG53lban0HYbBsROMPUaW/whxQ5LvTqpQs7v+oIBJRERERGKVS6DU0uE8ugLmNYWmgkl7jgw1SjvWl3dgYaSa3endSf1LAZOIiIiIbKZcAqVmhvDH9xLMXwFt0UgOlQb7jQ6B0lZ15R1cVEbvThqqdycVjQImEREREdmkXAKlpRvCiHdPVu9Poimk1VTAoePCYA6jh5R3cFGTbHY3AAakKHcKmERERESkbAKlt5qd+5c5LyZHvLMKhleFYcFnjIOhVeUbYBjRu5Mqy39AioFEAZOIiIjIIFYOgVLCnRfXhBHv3l6fSm+ogd3Xv8GsD+1S1v16qtKa3WkQh9KjgElERERkECqHQKk94Ty1MgRKjWkj3k0eGvon7T0KXlmwjOqKqcXL5BaorQy1STVqdlfSih4wmdl5wJeBKVHSS8AP3f3uaLoB3wW+BIwGFgDnuftL/Z9bERERkfJWDi+c3dDpzF8Bc5ucNe2p9N1HhEBp5/ryrYmpIGp2p3cnlY2iB0zAe8B3gDcIZegM4E4z29fdXwAuAL4JzAZeAy4B7jezqe6+rjhZ7r1nVia4832nqRXG18KsScb0MRWx6QC3Lurkz0thQ2cYTvLEreCUyZWx6bnWdcnznbzYnMrPtHr4/t65l/nGU50sSv9WpwZ+ul8lsx/vZG0ilT6iAm44OPe64qb97NVO/vYBJAiF4LCx8PVde7ctyfQT1sN/ze/cLD1zfiD28z87v5MNacevDrj50Nzritsvcct8eUEny9OGP22ogqsPrMx57OOOSa58nTq/k7R7DtXA7w+t5J/md5Lpj4fm3i9x+YqbP9fxyrd85VpXMl9Hrodrn+jclK9c+yXffRyXnmt/9eZ4xU3LtY/zPS6FXFdvrmG9yVd3yxy/Hq6c37kpvTfnfVx+e1OOCrnv49JzlZf+uOfkyle+n9+bdcXpzb2oN/nqzb043/Mo322P28ZdR1jOGqW/Lkkwdzm0JsL7fY5sgI9uXRGbnstLqxM80AQftMHYGjhmPOwxKvcyAGvbnblNzt9WhH0KoV9PfVX43Z6A9k7HrPt1lZrqCvi/9xPcsyzsy8yylE2usieFkTxXRuy4555x85h76X29YGYrgQuBXwHvA1e6+4+iaXVAE/Atd7+6u3VNnTrVX3vttb7Mbo89szLBNW87VRZGPmlLhIvWkQ0wdzmbpX9xB+PNdc4f3gvLVxgkosO1Wz280rx5+qFj4bXm7Ou6c7F3uaEmTa6BVrIvc+Pb3uVBrzt1wIia7OsCsm5/QzVZ8zWtHpa357ctdbApwDlh9aPcPWrGZumZnzGmBh75oOfbGGdaPbzbQpeH/O5UEG6YmRqq4OiJZD32wyqyf0Y1dAmI0vP1WnP2abkcPjb7fplcA++1bZ6vbWrIWlYOHwsr27If47g8xxlRAdsNzb6uhipYGQWex69+lHuiYz+mii4BadK0epg2Kr99HHe8JtfA5Prs+yuu7OU6XpB9G0fE5OvwsTCpLvu2xB2Xhpj90pt15TpX465hvckXZN/H6cukn/dx+yvXeR9XvntTjgq57+Ou+SdvAy+uzl5e4q7thbzn5MrXTsMtr3ve1HqY/0F+6/riDqnAYd68ecycOROIv9/muhf1Jl+Q/Xjluhc/0uRZy17ceZTreMUFTZnbv6ET2j3kOS5o+euSBPc2RttC6lq341B4q2Xz9OMmxAdNL61OcOviMBz2kArYmAi1WadsG//5ja3Og43O31emArohFWH/L24Jf8et66UnHmaPg47Iut5SkHx30p2LE1nLy8nbZA+Cbl3Umdf8g1H6ed8b6efKb07eq2Xt2y8NyzZfSQVMZlYJnAz8FtgXWA+8BRzg7k+mzXc3sMLdz+hunaUUMF3yYier2kJ71aTWTljdDqOqN08fXQPvNIe/q9KuLx0J6AQq2Tzdga1qs6/rxTXxedu6F8vkuy4g6/YvaQ1/p1dKJ0vlluQr/cEpl+QNINvnF9Owyvhj3x9y7ZdsZS+Zr8z544KMvpDM14dXPsr/jZnR7f4q5D7uz3KUbR/XdbMtcfkq1LriztVc17B88wW597EBH139KH8dNaPbfd/b8p1Nd+WoUPs+W75qK2F9jsxlOy6FvOfkytf29dmv+XGfv7Q17JN81jW6Br4/LSSmPzjF3W9z3Yt6k6/kPPnci19eE1/28j1eyW3PlNz+IRUhuHCgrRNGDoF/2SV7wPLt5xK0JUKQk9TpqVqwzPSaCviPD2Vf189fT7BmI9SkZS/u8xeud+5vdF5YndoP9VVwRIMxowGufdu7XVcpBkwVFq4NQ9Oa3Z3+RGfW8lJbCTcetPmxzHf+wWhLA6b0a8XV/1TiAZOZ7Qk8DtQCzcBn3f1uMzsEmA9Mdvd30+a/Dtja3T8Ss74vEfo80dDQsO+tt97a15vQI++2hBMo08ZEuKhlSnjqW5bMC6tHadnSa2LW1Z7jUPdmmXzXBdm3vy3H0/SW5GtkRzNrquq7n7FEWcZvSB3jYosre8WWzNeIjmbWVtV3m69S3sf5KuS29GZdcedqrmtYXyjEeZ9v+e6vfZ8tX+m/s8l2XAp9z4nLV5Xld89rS+S/roSHWmeA5uZm6uvDsY+73+a6F/UmX0l9eS/OdbyS255pUUvqS4YuyxBqMbN5t6XrdiQlj3G29LjPf39D7s934F0bzXOV2/B+xahN04f7Bj7UuYSpiUaqo6/aulsXQGtzM7X1pXG/N0JwmW2fJUf3y1aWdsjymJ7v/INR+nnfG+nXiq+cmrLOUAAAIABJREFUd15swFQKfZgg9E36EDASOAn4jZnN7O3K3P1XhOZ8TJ061bck8iwk1TCphikfqmHKn2qYVMOkGqauBkMN0+cHcQ3T5zNqmFo7w2AO97waX8NzbEwN0w0FrGF6IKaGaUQ1jBxnPNDovN+amrZNXRjIYZ/RQ6m0XYBdul1X+rYUu4bJSDW7yzW0+bU5aoy+kKXGKN/5B6NC1jDlkr2k9zN33+jub7r70+5+IfAc8A1gWTTLhIxFJqRNKxuzJhkdHi50Hv3u8NCBL1v6rEnGiVuFZTsS0bd/0ZNnsp9DZvphY+PXNS0mAJ9cE7/M5Jr8trGO+HXFbX8yX572k9zGfLcl5ouz2PRp9WGfZfv8fE2rD30m8hE3e0MVscc+7jOqc+QrbloucfslWSYy85VMz5z/sLHEHq988zWiIn5dDVWpfDmpfDXEfC00rT7/fRx3vCbXxO+vuLKX63jFbWMyX9n2cdy2xB2X5H4pxLpynauFzFfcPk5fJv133HHMdd7Hle/elKNC7vu4a/6JW8WXl7hreyHvObnyle89L3lM8lnXrEnZH05zzV/IfMXtr1z34riyF3ce5TpeSa2dzvI2Z+XGMCjCMeNDUNMWLdPWGf4/Znz2sgKhrxRETfg8NYLezkOzpyfnzybz8zd0QHMHLGuD3y5KBUtTh8N5Oxnf2dXYb4xlHTGuN9vSX6osBIETamHUEOv2PVBx5SWZvqXzS/7Srwe5VM6ZM6dfMpSP733ve7MJ/aSvIww5vmLOnDmPAphZLXAlcN2cOXOe7m5dV1555Zyvfe1rfZjbntuqzphUC4s2wKp2GFcLn93OOGaryqzp08dUhA6NHl7StjERvsH45Nbw1amVWdPP2il+XUdOrOClVU7TxlSeptXD5dPjlzluUgVPNDlr0grS5Bq4/qBK7lnitKVFFyMq4MZD4tcVt/2f2b6SpS3O4g2pb1lnjIULp+W/LVfuX7kpfZfWd3mjdvJm6enzf3/vSg4aV5H18386vZK7FjvpfbPrgFsPjV/XrG0rsu6X/z0k+zK/3L+Sh5Y6LWlVMMlR8uKO/cXTKrMek18fFJ+vk7er4I+LvUtNTzVw26GV/H7x5iHiHw+N3y9z9spe9r65e/bj+PVdK2OP1//sn31b4srXDQfHr+uKfVP52n7Du7w3bDKf3Br+dY/4/ZLvPr7uoOzpP90vfn/9x/T8j1fcNv58v/h9HLctccflRx8q3LpynauFzFfcPk5fZufWd3mrdjIzxsJl++R/3seV796Uo0Lu+7hr/imT48tL3LW9kPecXPnK9573yW3zX1f6oAcLFy5kypQpQPz9Nte9qDf5ittfue7FcWUv7jzKdbzaOp3V7SEYSaRdL8fXGuNrQmCytj3URp04KfcodTuPMDwR8tXuYTS8Y8fD6TtUZE3PNUpe8vPfbYGmNmjuhI0e9pEB00fB6VOMD0+soKHGcg4P3pNtWf7eIsZvMyV2HYVWUwEjq2HkEGNIRe78p4srL3EDOOQ7/2CUft73Rvr1YMHvf+UX/vO5P8w2X9H7MJnZZcDdwGJgOPAZwjDjJ7j7PWb2HeAi4EzgdeDfgMOBHg0rXkqDPkj/2tJqWilfOvaDl4794DWYjn1b1PRuY3+1d87TirYw4t0TH6T6bFUbHDQWjppgNNT0LMDoqf5oklcB1FWFJrhV3dQkSf8p5HlvZk+7+37ZppVCH6aJwE3R7zXAC8Dx7n5fNP3fCV/s/zepF9d+uBzfwSQiIiLSW6UeKC1uCSPePbsq1dRwaCUc3hBGvRteXX6BRpWFvklDK8v3Rbmy5YoeMLn77G6mOzAn+hEREREZVDYmnLXtpRkouTuvroMHGp3X0r7KHl0dapMOGQs1leUXaNRWhtqkcsy7FF7RAyYRERER2dzGhLOuPffrN4ql053nVoVAaXHa27m3qoVjJxj7jiHrIA6lrIKoNqmq/PIufUsBk4iIiEgJaY8CpdYSDJQ2JkLfpIcanRVpA43sVB8Cpd1HlF/TteoKqK8MtUrllnfpHwqYREREREpAKQdK6zucR5bDw8ud5mj4WAP2GhUCpSnDyi/QSL47aYgGcZBuKGASERERKaL2RBjMobt3wRTDyjbnoSbnsQ9SfaiqDA4YA0dPMCbUllewUWGhb5Ka3Uk+FDCJiIiIFEEpB0pLWpwHmpynV7LpHX61FTCjAWaON0aW2Yh3QypCbVKdBnGQXlDAJCIiItKP2hOhWduGEguU3J03m+H+Rufltan0kdVw5Hjj0HHlFXAYqWZ31Wp2J1tAAZOIiIhIP+iIapRKLVBKuPP86jDi3aKWVPqEGjhmgrHfmPIKOCrT3p1UoWZ3UgAKmERERET6UKkGSu0JZ8FKeLDRWd6WSt9+WBjIYdrI8go4aqJmd7VlVAsm5UEBk4iIiEgf6Iia3rWUWKDU0uE8ugLmNYVALmnayBAo7VhfPgGHEd6fNL4GqsqoFkzKiwImERERkQLq9DA8eKkFSqs3OnObnPkrUkOXVwD7jwlN77aqK5+Aoyqt2d1rpmBJ+pYCJhEREZECKNVAadmGMOLdkyuh00NaTQUcOi4M5jB6SPkEG7WVYVjwGjW7k36kgElERERkC5RqoPR2s3N/o/OPNam04VVhWPAZ42BoVXkEHRVEtUl6d5IUiQImERERkV4oxUAp4c5La8LQ4G+vT6U31MDR440Dx5bPiHfVFVBfGWqVTIGSFJECJhEREZE8lGKg1JFwnloVhgZf1ppK325oGMhh71HlM+JdXSXU691JUkIUMImIiIj0QCmOereh03lsBcxtcla3p9J3GxECpZ3ry6N2psJC3yQ1u5NSpIBJREREJIdSDJTWtocR7/62IvV+pwpg39Fw9ARjm6HlEXQMid6dVKdBHKSEKWASERERyaIUA6XGVuehJmfBB9ARjXg3pAIOGRtGvBtbUx6Bx9DKECip2Z2UAwVMIiIiImk6EuGFrhtKKFBauD6MePfCaojiJOqr4IgGY0YD1JfBiHeVlqxNUrM7KS8KmERERESA9qhGqVQCJXfn5bVhIIc3mlPpY4fAUeONg8fBkDKooVGzOyl3BQmYzGxnYC9gkbs/VYh1ioiIiPSH9qhGqbVEAqVOd55eGQKl99NGvNumDo6ZYOwzuvRraIxQk6RmdzIQ9DhgMrN/As4GvufuC9LS/w2YQzg3MLP/dffPFTifIiIiIgXVngjDg7cmip2ToK3TeewDeKjJWbUxlT51eAiUdh1e+iPeJZvdDa0sn2HMRbqTTw3T54DDgX8kE8xsGvB9oAN4AtgD+LSZ/dHd/1jIjIqIiIgUwsYoUGorkUBpXbvz8HLnkeWpASYM2GcUHDPR2K4MRryriZrd1arZnQxA+QRM+wDPu3tLWtrnCH0Pz3b335rZDsDLwBcBBUwiIiJSMto6Qx+lUgmUVrSFEe8eX/H/2bvzKLnPu87376eqei+11Lu8xPIuL/Iux4tkLZZN4DK5J4fJBjPZYPBMGM69GWbIvQwQkgADMwwEmBMgcAEThs1kYW4gcNFuW7Hl3bHl2E7s2JYXdXWrtXT1Wsv3/vH82r+yVFVdVf2r6uquz+scnVY/Vf2rp6u6pf708/w+P8gETQ5tDm4dgDtHHENN3njn8NdN6o5r252sbtUEpgHg0TPGtgNp4C8BzOxl59yDwJXRTE9ERERkaeZy/hyl+SYJSkenjT2jxhMnwsa77jhsG/Ktd2vamjt8JAra7rTtTlpBNYGpg+A8JQDnXDtwPXDQzLIF9zsGbIlmeiIiIiK1aaagZGa8MOmLHJ6fDMf72vxq0u0D0NHk29k6g213zT5PkahVE5jeAq4qeH8bPkQdOuN+SeD0EuclIiIiUpPZIChlmiAo5cx46oQPSkdnwvFzOuHuEcdN/c3deLew7a4nDgltu5MWVU1gOgj8a+fcp4F/An4Zv5L8T2fcbxPwejTTExEREalMMwWl+bzx8HHYN2qMFzTeXZr0Qemq3uZuvEsUtN018zxFGqGawPSrwPuAXwv+OGCPmb19XpNz7nLgYuAPopykiIiISClzOSNrMDG/+H3rbSrr2+4OjvmCCfA/MF271jfeXdTT3OFD2+5EzlZxYDKzF51zW4CfAYaBR4DfOONuu4Cngb+PbIYiIiIiRRSeo2SL372uJuaNfaP+OkoL50wlHLy7H3aNOEY6mzeAxAi23SWae3ugyHKpZoUJM3sW+PEyt/8+8PtLnZSIiIhIKc1U5vDGjG+8e3wCFqbTGYOtQ7BjyLGuvXkDiLbdiVSmqsAkIiIislyaJSiZGd9Lw+5R47mCmqveNrhz2LFlELqaeEtbZ9yXOGjbnUhlqg5MzrlLgX8L3AYMAf/LzD4d3HYLcB1wn5mdjHKiIiIi0pqaJSjlzfj2SR+UXp0Ox0c64K4Rx+b+5r2Aq7bdidSuqsDknPsJ4ItAezBkwGDBXbrxW/IywJ9GMUERERFpTc0SlDJ545EJ2DtqpObC8Yt6fOPdprXNewHXtphfTerStjuRmlUcmILChy8BaeDngfuBw2fc7SBwCvjfUWASERGRGjRLUJrOGg+Ow4GUcTobjm/qhbvXOy7uad4Q0hX3q0ntTbriJbKSVLPC9Gn8itIPmdlDcPY/EmaWd849CVwZ2QxFRESkJTRLUDo5b+xPGYfGYTaYSwy4ud9vvTunqzlDSMz51aRubbsTiVQ1gek24JGFsFTGMWBz7VMSERGRVtIsQenYjLEnZTw6Abmgp7wjBlsGYeewo69JG+/ag2snNXPRhMhKVk1gWgu8XsH9klUeV0RERFpQswSll9PG7lHjmVPh2JoE7Bh23DEI3YnmCyKOcNtdsxZNiKwW1QSbFHBRBffbCLxR23RERERktWuGoJQ348gp33j38lQ4PtQBu4Ydtww0ZxBZuHZSV7x5iyZEVptqAtMh4P3Ouc1m9lixOzjn7gYuB/6fKCYnIiIiq0czBKVs3njsBOwZNY7NhuMXdPvGu+vWNWcQ6Qy23enaSSKNV01g+gLwAeBrzrl/A+wpvNE5tw34EyAL/I/IZigiIiIrWjMEpdmcL3HYnzJOZsLxq3p9kcNlyeZrvFu4dlJ3HBJNuNol0ioqDkxmdtg592ngN4B/BE7jW/Pe55z7Yfz1mBzwM2b2TD0mKyIiIitHMwSl0xnjQMp4YBxmcn4sBtzY54PS+d3NF0QSDpIJXTtJpFlUVc5gZr/pnHsO+CxwczC8Lnj7DPCLZvb/Rjc9ERERWWmaISilZo29KePwccgGjXdtDm4fhDuHHQMdzRdEOuO+Flzb7kSaS9Vtdmb2j8A/OucG8CUQceComb0Z9eRERERk5ZjPG6czyxuUXpky9owaT5/022DAh5Dtw45tQ5Bsssa7hW13Pbp2kkjTqrn+28yOA8cjnIuIiIisQPN5YzIDc8sUlMyMV10fe17M8910OD7Q7leTbh1ovlWbhba7bm27E2l6ul6SiIiI1GS5g1LOjCeCxrs32jZBEJbO6/KNdzf0Nd+qjdruRFaeigOTc+4zVRzXzOyXa5iPiIiINLlMEJRmlykozeWMh47D3pRxYj4cv3yND0pXrGmuVRtHsO1ObXciK1I1K0yfxW8HLvadbgV/d8H7CkwiIiKryHIHpcmMcf+YcXAMpoPGOwdcvw4uHnuSnZfdtDwTK0EXmRVZHaoJTJ8rMR4DNgA7gAvw12I6WulBnXM/B/wIsBGYAx4Gfs7Mni24z73Ax8740MNmdmuljyMiIiK1yeR9691sbnkef3zO2JcyHhqHTPAr2oSDWwdg17BjqNNxJJUuf5AG6gi23XVq253IqlDNdZhKBSYAnHOdwB8APwjcWMUcdgC/BzyK/0XR54E9zrmrzGyi4H57gI8UvF+wCC8iIiJRW+6gdHTaN949cSLcytIVh21DsH3I0dvWPIFE2+5EVq/ISh/MbNY59++A7wO/AtxT4ce9p/B959xHgFPAFuAbBTfNmdmxiKYrIiIiJSxnUDIzXpyE3aPG85Ph+Lo233h3+2Bzrdxo253I6hdpS14Qmh4D/rclHGYNfpvfiTPGtzrnUsBJ4CDw82aWWsLjiIiISIFsEJRmliEo5c146qQPSkenw/FzOuGuEcfm/uZqvFPbnUjrcGa2+L2qOaBz/wjsNLPOGj/+PuAyYLOZ5YKxDwPT+NWrC/ErWHHgJjObK3KMewhWuIaGhm667777apmKrHDpdJpkMrnc05BloNe+dem1r13OYDm6HLLEeD42wtPx8zjtut4ePyd/ihtyR7nAThRtmzrTbDpNZ51fexf8UUZqLvq+b11RvvY7d+583Mw2F7st0sDknLsceAIYNbNLavj43wI+DGw1s5fL3O9c4FXgQ2b2tXLH3Lhxo73wwgvVTkVWgQMHDrBjx47lnoYsA732rUuvfXWyeSOdDRvnGmkqazwwBgfG/BzAh5Fr18Jd6x0X9VSXSo48fJCrb90e/UTRRWabnb7vW1eUr71zrmRgquY6TB8tc3MSuAJfytAF/HVVM/TH/wI+LO0sF5YAzOxN59zr+JUoERERqULOfD34cgSliXljf8o4NA7zwZJWwsHN/X7r3Uhn8wQSbbsTEajuHKZ7eef1ls608K/J31O6grz4Bzr3O8CH8GHp+QruPwicB7xVzeOIiIi0suUMSm/O+Ma7xybCrX+dMdg6BDuGHOvamyOUxAja7hLNdc6UiCyfagLTlykdmOaBN4C9Znaomgk4576IX5l6H3DCObc+uCltZmnnXBJ/0dyv4gPShcCvASng69U8loiISCtarqBkZnwvDXtGjSOnw/HeNtg55Ng6BF1NsnqjbXciUko112H6eJ3m8FPB271njH8OH5RywDXAR4F1+NC0H/igmU0iIiIiRS1XUMqb8cwp2H3MeKWg8W6kA3aNOG7uh7YmuVaRtt2JyGIirRWvhZmV/RfKzGaA95S7j4iIiIRy5osUprKNfdxM3nh0wq8opQo6bC/sgbtHHNesbY5rFekisyJSjWUPTCIiIhKN5QpKMznjwTHYnzJOFzz21b1w93rHJT3Nsc1NF5kVkVqUDEyLtOItysy+vJSPFxERkcrkzJgKglK0V1cs7+S8cSBlPDgOs0GTQwzfeLdrxHFuV3OEkvYYJBPQqW13IlKDcitM97K0f3cVmEREROpouYLSsVlj76jffpcNHrgjBlsGYeewo69JGu+6435FqVnOlxKRlalcYCrXiiciIiLLJB8EpXSDg9LLaV8N/u1T4diaBOwYdtwxCN2J5Q8mMefPTepWLbiIRKRkYKpjK56IiIjUYDmCUt58JfieY8ZLU+H4YAfsGnbcMgDtTbCC44C+NuhULbiIREylDyIiIk0uX7D1Lr/43SORzRuPnfCNd8dmw/ELun3j3XXrmqM4oSvYdpdw0NUEK1wisvooMImIiDSp5QhKsznj0LhvvDuZCcev7IW7RhyXJ5d/BSdGcJFZbbsTkQaoKTA553qAS4Fe/Cr4Wczs/iXMS0REpGWZGVM5SGcaF5ROZ3zj3QPjMBNc6DYG3NDnV5TO717+YJJwvu2uS9vuRKSBqgpMzrlLgd8BfgD/72gpVu2xRUREWt1yBKXUrLE3ZRw+HjbetTm4bRDuHHYMdix/MOmM+RWlDtWCi8gyqDjUOOfOB74FDAJvBh87DDyEX20awgelh4BMicOIiIjIGd4OSlnIN6jN4dUpY/eo8fTJsECiJw7bhmD7sCO5zOcDOfyWu544JJqgVEJEWlc1q0D/Nz4s/bKZ/ZJz7k+Bj5rZFgDn3N3A7wPzwHsin6mIiMgqY2ZM52CyQUHJzPjOadg9anw3HY73t/vVpNsGln8VJ+H8alJXvDlKJUREqglM7wGOAp8rdqOZ7XbOvQc4Anwa+NWlT09ERGT1aXRQypnxRNB498ZMOH5ely9yuLFv+csTOmL+/KTlDmwiImeqJjCdD/yzmS1sq84DOOfazCwDYGYvOecOAj+KApOIiMg7LASldBZyDQhKcznjoeOwL2VMzIfjl6/xQenKNctbnuDwK0nJhLbdiUjzqiYwzQJzBe8vLOYPA28UjE8AW5c4LxERkVWj0UEpnTUOpoz7x2AqaLxzwPXrfFDa0KNtdyIilaomML0BXFDw/veCt7cBXwFw/tdUNwCnIpmdiIjICjedNSYbFJTG54x9KeOhccgEj5dwcMsA3DXsGOpc3nDSGfclDtp2JyIrSTWB6RHg/c65TjObBf4pGP+Cc24KeB34JHAZ8A/RTlNERGRlmc4a6WxY1V1PR6eNPaPGkyfCOvKuhca7IUdv2/IFlJjzIUkXmRWRlaqawPQPwEeAfwF8xcy+65z7Y+DfAH8f3MfhW/J+PtJZioiIrBAzwYpSvYOSmfHipG+8e34yHF/X5hvvbh+EzmVcyWmP+aDUqYvMisgKVzIwOeeuMbNnFt43s68CbWfc7ZPAC8D7gX7geeDXCj9ORESkFTQqKOXNeOqkD0pHp8Px9Z3+/KTNfctXoLBQ4tCTgDaVOIjIKlFuhekp59zjwJ8Af2VmZ52XZGY54DeDPyIiIi1nJmdMZuoflObzxuHjsHfUGC9ovLukB+5a77i6d/kKFFTiICKrWbnAlAc2AzcBv+mc+zrwp2a2tyEzExERaWKNCkpTWeOBMTgw5s+JWnDtWr+idHFy+QKKShxEpBWUC0znAx8FPg5cCfwY8KPOudeAPwXuNbPX6j5DERGRJtKorXcT88b+lHFoHOaDJoe4g3f3w64Rx/plarxTiYOItJqSgcnMRoHfAH7DOfdu4MeBDwEbgF8CPuOc24ffsvd1M5srdSwREZGVrlFB6c0Z33j32ETYeNcZg61DsGPIsa59eUJKe2xh251Ckoi0lopa8szsEeAR59z/CfwI8AngTuAuYBdwyjn3l/gte4/Xa7IiIiKN1oigZGa8lPZFDkdOh+O9Cdg57Ng6tDxBxeFXkrrjKnEQkdZVTa04wSrSXwF/5Zw7H79d72PAJcBPAZ90zj0L/LGZ/W7EcxUREWkIM2M6B+k6X3A2b8Yzp2D3MeOVgsa74Q5/ftLN/csTVBZKHLpVCS4iUl1gKmRmrwO/AvyKc24rftXpA8A1wBcABSYREVlR8gVBKV/HoJTJG49OwJ5RI1Wwof3Cbrh7veOatcvTNqcSBxGRs9UcmM7QAXQCsYiOJyIi0jA5M6azMJUNzxuqh5mc8eAY7E8Zpwsa767u9UHpkp7Gr+jE8NvuelTiICJSVM2ByTl3MX5L3keBd+G3OgM8jC+CEBERaWo581Xd01moZ5fDyXnjQMp4cBxmg0QWAzb3+61353Y1Pqi0xfxqUpe23YmIlFVVYHLO9QAfxAelrQvDwCjw58CfmNnzUU5QREQkagtBaSq7+H2X4tissXfUeGQiPBeqPQZbBuHOYUffMjTedcYhmYB2lTiIiFSkosDknNuOP0fpXwLd+JCUBb6JX036BzPL1WuSIiIiUWhUUHo57avBv30qHEsmfC34tiHoTjR4252unSQiUrOSgck5twHfgPcx4ELCLXffwV+49stmlqr3BEVERJYqZ8ZkBqbr+Ku9vPlK8D3HjJemwvHBDtg17LhloPGrOm0xSMb9qpK23YmI1KbcCtNL+JDkgEngb/Bb7h5uxMRERESWqhErStm88dgJ2DtqvDUbjr+rG+4ecVy/rvGNd11xX+KgbXciIktXLjDFgPvxW+7+1sxmGjMlERGRpWnEitJszjg07hvvTmbC8SvW+KB0+ZrGrupo252ISH2UC0yXmdlLDZuJiIhIBE7OW12D0umMb7x7YBxmgsdxwI19Piid393YsNIetN1p252ISH2UDEwKSyIislIsrChlrH6rSqlZY2/KOHwcskHjXZuD24LGu8GOxm+7SyagTdvuRETqKqoL14qIiDRcNh9cR6mOK0qvTvnGu6dOhtdq6o7D9iHYPuxINrDxTtvuREQaT4FJRERWnHoHJTPjO5O+8e7FdDje3+5Xk24bgI544wJLe8yXOHQ18DFFRMRTYBIRkRUjEwSlmToFpZwZT5yAPaPGGwVVR+d1wV0jjhv7Gruy0x203WnbnYjI8lFgEhGRppfJG5NZmK1TUJrLGQ8dh30pY2I+HL88CXetd1zZwMY7bbsTEWkuCkwiItK06h2U0lnjYMq4fwymChrvrl/nV5Q29DR4210cuhp4TpSIiCxOgUlERJpOJu9b72bz9Tn+8TljX8r41rhv1gNIOLhlAO4adgx1Ni60qO1ORKS5VRyYnHM54F4z+4lF7vdHwCfMTGFMRESqMh8Epbk6BaXXp33j3RMnYOEhuuJwxyDsGHb0tmnbnYiIvFM1ocYFfyq9r4iISEXqGZTMfNPd7mPG85Ph+Lo22Dns2DIInQ1qn2uLQVIXmRURWVHqsQqUBDJ1OK6IiKwyczl/jtJ8HYJS3vy1k/aMGq9Nh+PrO/35SZv7INGgbXCdwba7dm27ExFZcSILTM65GHAlcCfwelTHFRGR1aeeQWk+bxw+DntTxvhcOH5Jj2+8u7oXYg1Y3Ynht9z1aNudiMiKVjYwBectFfqYc+5jFRz3y7VPSUREVqvZIChl6hCUprPG47F38T+f9Y+x4Nq1fkXp4mRjQkvC+ZDUrW13IiKrwmIrTIX/0hvlz03KAG8AXwd+cYnzEhGRVWQm589Rylr0xz4x7xvvDo3DfOJCyELcwbv7YdewY31XY0JLR8xvu+to0PlQIiLSGGUDk5nFFv7unMvjW/J+PMoJOOd+DvgRYCMwBzwM/JyZPVtwHwf8EnAP0AccBv69mR2Jci4iIhKtmaxf7alHUHpzxjfePTYRNt61WZbtIwl2DDvWtdc/uDiCbXfxxp0PJSIijVXNOUyfA56swxx2AL8HPIr/v+fzwB7n3FVmNhHc59PAfwQ+DrwAfAbY7ZzbaGaTZx1RRESWjZkxk4N0HYKSmfHSlG+8O3KJb/1GAAAgAElEQVQ6HO9N+Ma7gVce4cbzt0b7oEXEnV9N6oo35nwoERFZPhUHJjP7XD0mYGbvKXzfOfcR4BSwBfhGsLr0KeDXzeyrwX0+BqSAHwO+VI95iYhIdcyM6SAo5SIOSnkznjnlG+++PxWOD3f485Nu7vcXfj3yypmn3karPdh216gachERWX7NeHHZNfhyoRPB+xcB64F/XriDmc045+4HbkeBSURkWS0Epcks5CMOSpm88egE7B01Rgsa7y7shrvXO65Z25gVnu64L3Jo07Y7EZGW48yK/+/mnNu3hOOame2qaULO3QdcBmw2s5xz7nbgELDBzF4ruN+fAOeduUIV3HYP/nwnhoaGbrrvvvtqmYqscOl0mmQyudzTkGWg175x8viQFPUpSnPEeS62nmfi5zHlOt4evyA/wQ25o5xjp4u2EM2m03RG9No7/G/vlJFWBn3fty699q0rytd+586dj5vZ5mK3lVth2rGEx6zp/07n3G8BW4GtZlbzvgoz+0PgDwE2btxoO3bsqPVQsoIdOHAAvfatSa99feXNmMrCVDYsW4jKqYxxIGU8MAazwcFjwOZ+2DXiOK9rEBgs+fFHHj7I1bduX9Ic2mO+xKFTteArir7vW5de+9bVqNe+XGDaWfdHL+Cc+wLwYWCnmb1ccNOx4O0I8FrB+EjBbSIiUmf1DEqjs8beUeORibAooj0GWwZ9mUN/AxrvuoJtd+1aUhIRkQIlA5OZHWzUJJxzvwN8CB+Wnj/j5u/jg9Hd+CY9nHOdwB3AzzZqjiIirSpnxnTWlzlEvfXu+1PGnmPGt0+Fx04mYMeQ444h6EnUN7zECC4ym4C4VpNERKSIZS99cM59EfgI8D7ghHNufXBT2szSZmbOud8G/rNz7nngReAXgDTwl8syaRGRFpArWFGKMiiZ+UrwPaPG99Lh+GC733Z3y0D9V3kSBbXg2nYnIiLlLHtgAn4qeLv3jPHPAZ8N/v7fgC7gi4QXrv0BXYNJRCR6OTPSWZiOOChl88bjJ3xQems2HH9Xl68Gv76v/qs8nXF/flKHasFFRKRCFQemoJWuUmZmP1HhHRf9X8t8ld9nCQOUiIhEbCEoTWWjPe5szvjWOOxLGScz4fgVa+DuEcfla+q7yhMDuhJ+RUnb7kREpFrVrDB9fJHbF34R6YK/VxSYRERkedUrKJ1eaLwbh5mg99QBN/b5FaV3ddd/211Pwl9DSdvuRESkVtUEpk+UGI8BG4AfAm4Gfgd4aonzEhGROqtXUBqbNfamjIePh413bQ5uG4Q7hx2DHfUNLx0xv5qkbXciIhKFigOTmf3ZInf5rHPuv+DPSSp60ScREVl+9SpzeG3a2H3MeOpkeNzuOGwfgm1DjjVt9QswDl/gkHAwUOdAJiIirSXq0odfAH4M+GXgRyM+toiILMHCdZSirAc3M56fhN2jxosFNTz97X416baB+q70xAu23cWcQ1FJRESiFmlgMrO8c+4J4M4ojysiIrWrR1DKmfFk0Hj3+kw4fl7QeHdjnRvv2mM+KHVp252IiNRZPWrFe4M/IiKyjPIFW+/yER1zPm88FDTeHZ8Pxy9L+sa7K3vrW7DQHfdBqa3O12kSERFZEGlgcs7dDtwBvBTlcUVEpHJWUOYQVVBKZ437x+BgypgqaLy7fp1fUdrQU8dacOevndStWnAREVkG1VyH6TNlbk4CVwA/CMSBaq7ZJCIiETDzYSadiS4oHZ8z9qWMh47DfHDQhINbBmDXsGO4s34Bpi0Gybi/2KxqwUVEZLlUs8L0Wfz293L/a+WB3zOz/76USYmISOXMjOkcTGYhH9FJSq9PG3tGjSdOhOGrKw53DMKOYUdvHRvvOuO+Frxd2+5ERKQJVBOYPlfmtnngDWC/mR1d2pRERKQSb68oRRSUzIwX077I4Tunw/F1bbBz2LFlEDrrVLIQI2i707Y7ERFpMtVch6lcYBIRkQaJeutd3vy1k/aMGq9Nh+PrO/35SZv7IFGn1Z6E86tJXdp2JyIiTaoeLXkiIlIHUbfezeeNw8dhb8oYnwvHL+nxQenqtf7aRvXQGdSC1/MaTSIiIlGIJDA55+4CrgNeBb5uZrkojisiItEHpems8cA4HEgZk9lw/Nq1PihdnKxPiHH4LXc98fqtWImIiEStmpa8nwT+A3CPmT1YMP5HwI8X3PV+59wPmFkmummKiLSeqIPSiXljf8o4NA5zwQHjDm7uh7uGHeu76rftrifYdlevFSsREZF6qWaF6UeA9cDhhQHn3G3ATwCTwP8Cbge2AT8G/Fl00xQRaR1RB6W3Znzj3aMT4fE6YrB10Jc5rGuv07a7uF9N0rY7ERFZyaoJTFcBz56xcvRhfNX4j5rZN51zA8ArwCdQYBIRqUqUQcnMeHkKdh8zni1ovFuT8CFp6yB0J6IPMrrIrIiIrDbVBKZB4FtnjG0DTpjZNwHM7Lhz7gHgmojmJyKy6kUZlPJmPHsKdo8a358Kx4c6/PlJ7+6HtjqcP9Qe80FJF5kVEZHVpprAFAM6Ft5xznUDm4BvnnG/4/hwJSIiZURZD57JG49N+Grw0YLGuw3dcPeI49p19Tl/qDvuz0+qRwgTERFpBtUEpteB6wvevxuIA4fOuN864MQS5yUismpFGZRmcr7EYX/KOFWwYfqqXh+ULk1Gv+KjbXciItJKqglM/x/wSefcF4O//1f8+Ut/f8b9rgdei2Z6IiKrx9tBKQt5W9qxTmWMAynjgTGYDVJXDLgpaLw7r7tO2+4S0KUSBxERaSHVBKZfBf4l8Eng3+EvqfEXZvbcwh2cczcA5wF/G+UkRURWsrwZ0xEFpdFZY++o8cgEZINjtcfg9gG4c9jR36FtdyIiIlGqODCZ2VtBIPpJYAR4BPjzM+62CV8v/tXIZigiskLlzJiOqMzh+1PGnmPGt0/5pX2AZAK2DznuGIJkxI132nYnIiLiVbPChJkdA365zO1/ztkhSkSkpeTMSGdhOhuGm1qYGUdO+yKH76XD8YF22DXiuHUA2iNe9WkL2u661HYnIiICVBmYRESktEze14NP55Z2nJyFjXdvzYbj53f5Iofr+6Jf9dFFZkVERIqrOjA557YDPw3cBgwB/9PMfiK47W5gJ/C7wWqUiMiql8kbk1mYXWJQmitovDtR0Hh3xRp/DaWNa6Jd9YkBXQm/tU/b7kRERIqrKjA55z4L/CK+8OHt4YK/nwT+L+AN4ItLnZyISDObzxuTGZhb4glKkxnjwJhvvFtYnXLAjX0+KL0r4sa7hPMlDt3adiciIrKoigOTc+69wGeAo8DPAPcDo4X3MbNHnXNjwL9AgUlEVqm5nF9Rml9iUBqb8413h49DJjjZqc3BbYO+8W4w4sa7jqAWvFPb7kRERCpWzQrT/wHMAT9oZt+Bkr+ZfAq4dOlTExFpLrNBUMosMSi9Nm3sPmY8dTIsheiOw7Yh33q3pi3aQKNacBERkdpVE5huAh5eCEtljAFbap+SiEhzmc0ZpzPhdY9qYWY8P+mLHF6YDMf72mHXsOO2gWgLF1QLLiIiEo1qAlMXPgwtpr/GuYiINJUoVpRyZjx5wgel12fC8XM7/flJN/VHG2jag1rwTp2fJCIiEolqAtNbwBUV3O8q4NXapiMisvyiOEdpPm88dBz2jRrH58Pxy5K+GvzK3mgDTWfct91FfV0mERGRVldNYNoPfNw59wNm9s/F7uCc+xCwAfidKCYnItJIUQSldNa4fwwOpoypgsa769b5FaULe6KtBe9O+POTtO1ORESkPqoJTL8B/Cvgb51zPwt8deEG51w38H7gd4Hp4K2IyIoQRVA6PmfsS/lVpYXjJBzcMuAb70Y6ows0qgUXERFpnIoDk5k975z7OHAv8PvA7+ELnv418LHgblngI2b2/WinKSISvSiC0uvTxp5R44kTsHCYrjjcMQg7hh29ETbedQa14FGWQ4iIiEh5VV241sz+2jl3BPgF4D1Ab3CMGWAP8HkzezzyWYqIRGipQcnM+G4ado8a3zkdjq9tg53Dji2D0BVRqHH4AJZMQELnJ4mIiDRcNReu7QXMzJ4BPuT8PpABIA6Mm1muTnMUEYnEUoNS3oynT/rGu1enw/H1nbBrxHFzX3ShJl6w7S6mbXciIiLLppoVppPAo8At4JMTMF6PSYmIRGmpQSmTNw5PwN5RY2wuHL+4xxc5bFobXahpD7bdRbVCJSIiIktTTWCaBL5br4mIiERtqddRms4aD4zDgZQ/zoJNa301+CXJ6EJNd9wHpTZtuxMREWkq1QSm7wDn12siIiJRMWBszmoOSifmjf0p49A4zAXHiDu4uR92DTvO6Ypu21133FeDqxZcRESkOVUTmP4I+JJz7iYVO4hIM1pYUcpabatKb834xrvHTkDO/FhnDLYEjXd97dp2JyIi0mqqqRX/Y+fcdcBu59x/Bb4OvGpmc4t8qIhIXS11691LaWP3MePZgsa7NQnfeLd1ELoTSw82C2132nYnIiKyslTTklfYgvdfgj+lLppoZlZVZbmISLVmcsZkxq8oVStvxrOnfOPdy1Ph+FCHL3J4d380wWbhIrNdarsTERFZkaoJNdX8T6+fCkSkbpYSlDJ547EJH5RGC9bHN3T7Iodr10UTbHSRWRERkdWhmi15sXpORERkMTPZ8Bylqj8250sc9qeMU5lw/KpeH5QuTZZcMa9YDF/g0KMSBxERkVVD2+ZEpOktJSidyhgHUsYDYzAbnOMUA27q81vvzuteerBpi0FP3G+7W2roEhERkeaiwCQiTWspQWl01tg7ajwyEX58ewxuH4A7hx39HUsPNl1xSKrEQUREZFVTYBKRprOUoPTKlPFPiSt55Tlj4cOTCdg+5LhjCJJLbLyLF5Q4aNudiIjI6tcUgck5tw34T8BNwLnAJ8zs3oLb7wU+dsaHHTazWxs1RxGpv1qDkpnx3GnYPWp8Lw3EBgEYaIc7Rxy3DUD7EleB2mM+eHWqxEFERKSlNEVgApLAs8CXgz/F7AE+UvD+fL0nJSKNUWtQypnx+IQPSm/NhuOD+TTvvXgN1/ctfRWoW9dOEhERaWlNEZjM7JvAN+Ht1aRi5szsWMMmJSJ1V2tQmssZ3zoO+0aNEwWNdxvX+Ma77HNPsql/e83zijlf4tCttjsREZGW1xSBqUJbnXMp4CRwEPh5M0st85xEpAa1BqXJjHFwzLh/DKaDS2k74IY+H5TeFTTeHalxXm0xSMahU213IiIiEnBmNZxVXUfOuTTw02ecw/RhYBr4PnAh8CtAHLjJzOaKHOMe4B6AoaGhm+677776T1yaTjqdJplMLvc0pIABOYNq/9U5TSdPxc/j+dgIORcHIG45rsyPcl3uDXqZfcf9Z9NpOqt47WP4VSVFpJVP3/etS69969Jr37qifO137tz5uJltLnbbighMRe5zLvAq8CEz+1q5423cuNFeeOGFaCcpK8KBAwfYsWPHck9DqH1F6ei0sXvUePJEGLK647B9CLYNOda0FY84Rx4+yNW3lt+Sp213q5O+71uXXvvWpde+dUX52jvnSgamlbQl721m9qZz7nXgsuWei4iUNp010lUGJTPj+UnYM2q8MBmO97XDrmHfeNexhKa69thCLbhCkoiIiCxuRQYm59wgcB7w1nLPRUTOVktQyplfSdozarw+E46f2wl3jThu6q99Jcjhr5uktjsRERGpVlMEJudcErg0eDcGXOCcux6YCP58FvgqPiBdCPwakAK+3ui5ikhptQSl+bzxUNB4d7zgYgGXJX1Quqq39gKGRMFFZmPadiciIiI1aIrABGwG9he8/7ngz58BnwSuAT4KrMOHpv3AB81sEhFZdrUEpXTWeGAMDo75jwW/EnTtOt94d2FP7QEnhr9o7VK27omIiIhAkwQmMztA+YKq9zRoKiJSITNjJgeTWd98V6mJOWNfyl9HaT7vxxIO3t0Pu0YcI521hZwYvsChOw4vOoUlERERiUZTBCYRWTnMjOkcpKsMSq9PG3tHjcdPQJCT6IrD1kHYMexYW6LxbjEL2+66de0kERERqQMFJhGpSC1Bycz4btoXOTx3Ohxf2wY7hx1bBmtvq+uIQTKhlSQRERGpLwUmESlrIShNZiFfYVDKm/H0SR+UXp0Ox0c64K71jpv7IFFDW53a7kRERKTRFJhEpKhaglImbxyegL2jxthcOH5xj2+827S2tra6eMG2O7XdiYiISCMpMInIO5gZU8HWu0qD0nTWeGAcDqSMyWw4vmmtb7y7JFlbyNFFZkVERGS5KTCJCOC30U1lYSobljIs5uS8b7w7NA5zwQfFHdzcD7uGHed01RZ0urXtTkRERJqEApNIi6slKL01Y+wZNR47ERZAdMRgy6Avc+hrrz7oxBz0xH01eFzb7kRERKRJKDCJtKicGdNZv/Wu0nbwl9LG7lHj2VPh2JqErwW/YxC6E9UHnbYYJOPQqVpwERERaUIKTCItJlewolRJUMqbD0h7Ro2Xp8LxoQ5/odlb+mvbOrfQdteubXciIiLSxBSYRFpEzox0EJQqkcn7LXd7R41js+H4hm7feHfduuob62IEbXfadiciIiIrhAKTyCqXzfugNJ2r7P4zOV/isD9lnMqE41f1+qB0WbL6rXOJglpwbbsTERGRlUSBSWSVygRBaabCoHQqYxxIGQ+Ohx8TA27qh7uGHed1Vx90OmKQTECHasFFRERkhVJgElllMnl/LaTZCoPS6Kyxd9R4ZAKywUlN7TG4fQDuHHb0d1QXdhzh+UmqBRcREZGVToFJZJWYzxvpDMxW2A3+ypRvvPv2ybD8IZmA7UOOO4YgWWXjnWrBRUREZDVSYBJZ4ebzxmQmvHBsOWbGc6dh96jxvXQ4PtDuG+9uHai+tS7hfLW4asFFRERkNVJgElmh5nJ+6918BUEpZ8bjE74a/M2Cxrvzu3yRww191a8Kdcb8tjudnyQiIiKrmQKTyApTTVCayxnfOg77UsaJ+XB84xoflK5YU92qkM5PEhERkVajwCSyQszkfOtdpoKgNJkxDo4Z94+FdeIOuKHPB6ULqmy8W6gF74pXf+0lERERkZVMgUmkyc1k/YrSQoNdOeNzvvHu4eOQCe7f5uDWAbhzxDFUZeOdtt2JiIhIq1NgEmlS01m/olRJUDo67RvvnjwRNt51x2HbkG+9W9NWeeBR252IiIhISIFJpImYGTM5mMxCbpGgZGa8MOkb716YDMfXtfnGu9sHqlsZao/5oKS2OxEREZGQApNIEzAzpnOQriAo5cx46oRvvDs6E46f0wl3jzhu6q98ZUglDiIiIiLlKTCJLKOFoDSZhfwiQWk+789N2jdqjBc03l2a9EHpqt7KV4ZU4iAiIiJSGQUmkWVQTVBKZ40HxuDgmD+nCfzK0LVr4a71jot6Kg88nXG/7U4lDiIiIiKVUWASaSAzYyrYerdYUJqYM/al/HWUFq65lHDw7n5/jtJIZ2WhRyUOIiIiIrVTYBJpgPzCOUoZWOwySm9MG3tSxuMT4X07Y3DHEOwYdqytsPFOJQ4iIiIiS6fAJFJHeTOmsjCVLR+UzIzvpn2Rw3Onw/G1bbBz2LFlELoq2EanEgcRERGRaCkwidRBpUEpb8bTJ31QenU6HB/p8Ocnbe6rLPjEgxKHbpU4iIiIiERKgUkkQjkzpisISpm88ciED0pjc+H4RT2+8W7T2sqCT3sMkgnoVImDiIiISF0oMIlEIFewolSuy2E6azw4DgdSxulsOL5prQ9KlyQrCz7d2nYnIiIi0hAKTCJLkDNjMgPTufL3Ozlv7E8Zh8ZhNlh6ijvY3Ad3jTjO6Vo8+KjtTkRERKTxFJhEapDJ+xWlxYLSsRnfePfoBOSCpaeOGGwZ9GUOfe2LB5+2GCTVdiciIiKyLBSYRKqQyRuTWZhdJCi9lDb2jBrPnArH1iR8Lfgdg9CdWDz4dMb9+Unt2nYnIiIismwUmEQqMJcz0lmYK9PkkDfjyCnYPWq8PBWOD3XArmHHLQOLn3MUw2+569G2OxEREZGmoMAkUsZsEJTmywSlbN549ATsHTWOzYbjF3T7Iofr1i3eeBd3fjWpS7XgIiIiIk1FgUmkiJms33qXLVN5N5PzJQ77U8apTDh+Za8vcrg8ufg5RwvnJ3VVsEVPRERERBpPgUkkYGZM53w1eLmgdDrjG+8eHIeZ4FymGHBj0Hh3fncF5yfF/La7Dl0/SURERKSpKTBJy8svXEMpB/kyQSk1a+xNGYePh4GqzcHtg3DnsGOgY/Hzk7oSvho8oSIHERERkRVBgUlaVqUXm311ytg9ajx9MrxfTxy2Dzu2DUFyke10CedXk7pVCy4iIiKy4igwScup5BpKZsZzp2HPqPHddDg+0O5Xk24bXLzuuzPug5W23YmIiIisXApM0jLm80Y6A7NlGu9yZjxxwgelN2bC8fO7/PlJN/SVr/uOEawmqRZcREREZFVQYJJVr5Jq8Lmc8dBx2JsyTsyH45ev8dXgV6wpv50uUVALrm13IiIiIquHApOsSmZGHl/UUK7xbjJj3D9mHBwLt+g54IZ1sGvEsaGnfPjpiPmgpG13IiIiIquTApOsKvmgGjydhZyVrgcfnzP2pYyHxiFT0Hh364A/R2mos3wA6o77rXdtarsTERERWdUUmGRVyJkxHTTeldl5x9FpY8+oP09pIUt1x2HbEGwfcqxp0/lJIiIiIhJSYJIVLWf+/KTpMtXgZsYLk7B71L9d0NcGd444bh8ov6VOteAiIiIiraspApNzbhvwn4CbgHOBT5jZvQW3O+CXgHuAPuAw8O/N7EjjZyvNIJsPglKZavA88PiEX1E6WtB4d06nb7zb3F9+pag9OD+pU+cniYiIiLSspghMQBJ4Fvhy8OdMnwb+I/Bx4AXgM8Bu59xGM5sscn9ZpTJ5YzILs2WC0nzeePg4/FPbZk6/Eq47XZr0jXdX9ZZfKdL5SSIiIiKyoCkCk5l9E/gmgHPu3sLbgtWlTwG/bmZfDcY+BqSAHwO+1NDJyrKo5BpKU1nj/jE4OOZXn3BdOODatXDXesdFZRrv4s4HJZ2fJCIiIiKFmiIwLeIiYD3wzwsDZjbjnLsfuB0FplVtLriG0lyZoDQxb+wbNb51PLzWUsLBZdm3eP815zJSpvGuPeZXk7q07U5EREREilgJgWl98Hb0jPFR4LwGz0UaZC7nt96Vu9jsGzP+/KTHJ8JmvM4Y3DEEO4Ydrz/+PUY6i3+JaNudiIiIiFRiJQSmqjnn7sEXRDA0NMSBAweWd0JSMcNfP6lk4x3wllvLk/HzeS3W//Z4t81xbe4Nrs4fo/1ojtePwmw6zZGHD759H4evBldGWv3S6bS+71uUXvvWpde+dem1b12Neu1XQmA6FrwdAV4rGB8puO0dzOwPgT8E2Lhxo+3YsaOe85MlsuBis1PZ0heazZvx7ZOwZ9R4ZTocH+lYaLzrpC12KXDp27cdefggV9+6nYTzbXddqgVvGQcOHEDf961Jr33r0mvfuvTat65GvfYrITB9Hx+M7gYeBXDOdQJ3AD+7jPOSJcoHQSmdhXyJoJTJG49MwN5RIzUXjl/U4xvvNq2FWIkQFAMG2stfY0lEREREpJymCEzOuSTh0kAMuMA5dz0wYWavOed+G/jPzrnngReBXwDSwF8uy4RlSXJmTGf9ilKpU5Sms8aD43AgZZzOhuOb1vqgdEly8VrwF53CkoiIiIgsTVMEJmAzsL/g/c8Ff/4Mf+2l/wZ0AV8kvHDtD+gaTCtLzoKLzWZLn6N0ct7YnzIOjYcV4jHg5n6/9e6crtKrST0J1YKLiIiISLSaIjCZ2QH8Ofmlbjfgs8EfWWGy+SAolbnY7LEZY0/KeHTClz4AdMRgyyDsHHb0tRf/8ki4ICjp/CQRERERqYOmCEyyOmXyvhp8tkxQejlt7B41njkVjq1JwPYhx7Yh6E4UD0HtMV/k0KktdyIiIiJSRwpMErn5vDGZKX2x2bwZR07B7lHj5alwfLAD7hp2vHsA2kt0f3fGfVAqdbuIiIiISJQUmCQyi11sNps3Hjvhq8GPzYbjF3T7Iofr1hVvvHP4c5N64pBQUBIRERGRBlJgkiWbyflzlDIlgtJszpc47E8ZJzPh+JW9Pihdlix+/lHM+ZDUkyhdHS4iIiIiUk8KTFITM2MmuIZSqYvNns4YB1LGA+MwE5zHFANu7PONd+d3ly5y0IVmRURERKQZKDBJVazgYrO5EkEpNWvsTRmHj4dhqs3B7YNw57BjoKN4COoIihx07SQRERERaRYKTFKRSi42++qUsWfUeOpkeJ2lnjhsH/aNd8kSjXddQZFDm85PEhEREZEmo8AkZS12DSUz4zunfePdd9Ph+EC7X026bbB4o12MoMhBF5oVERERkSamwCRFzQdBqdQ1lHJmPBE03r0xE46f1+WLHG7oKx6E4gXnJ6nIQURERESanQKTvMNs0HhXqhp8Lmc8dBz2pYyJ+XD88jU+KF2xpnhRQ3vMryZ16fwkEREREVlBFJikosa7yYxx/5hxcCzcnueA69f5xrsNPbrQrIiIiIisPgpMLSxf0HiXLxGUxueMfSnjoXHIBPdJOLh1AHYNO4Y6S19oNqnzk0RERERkhVNgakGVNN4dnfaNd0+cCBvvuuKwbQi2Dzl624pfaDaZgG6dnyQiIiIiq4QCUwuppPHuxUnfePf8ZDi+rs033t0+CJ1FzkFqi0Ey7rff6UKzIiIiIrKaKDC1gEoa754+6YPS0elw/JxOf37STX2QKHIOki40KyIiIiKrnQLTKrZY49183jh8HPaOGuMFjXeXJH3j3VW9xbfWdcd9450uNCsiIiIiq50C0ypTSePdVNZ4YAwOjPlABb6o4Zq1fkXp4mTxIoceXWhWRERERFqMAtMqUUnj3cS8sT9lHBoPV50SDm7uh10jjvVFGszYwEIAABukSURBVO9U5CAiIiIirUyBaYXLmTEVNN6VyEm8OeMb7x6bCFvxOmOwdQh2DDnWtZ8dhBJBUOpSkYOIiIiItDAFphUqk/dBqVzj3UtpX+Rw5HQ43hs03m0ZhK4iZQ3tQZFDsTY8EREREZFWo8C0wsznjXQGZksUOeTNeOaUD0qvTIXjIx3+/KTN/cXLGjrjPii1q8hBRERERORtCkwrxGKNd5m88egE7Bk1UnPh+EU9vvFu09rSjXfJRPHacBERERGRVqfA1MQqabybyRkPjsH+lHE6G45v6oW71jsu6Tn7HKQYvu2uW413IiIiIiJlKTA1oUoa707OGwdSxoPj4fa8GGHj3bldZweheEHjnYocREREREQWp8DURCppvDs2Y+xNGY9MQC64U3sMtgz6Moe+Io13bTFIxqEroZAkIiIiIlINBaYmsFjjHcDLaV8N/u1T4Vgy4WvBtw1Bd5Ew1BE03nWo8U5EREREpCYKTMuoksa7I6d8kcNLBY13gx2wa9hxy0DxVruuoMihWBueiIiIiIhUToFpGSzWeJfNG4+d8EHp2Gw4/q5u33h3/bqzG+8cvsQhqSIHEREREZHIKDA1SCWNd7M549C4b7w7mQnHr+z111C6PKnGOxERERGRRlJgqrNKGu9OZ3zj3QPjMBOcxxQDbujzK0rnd58dhGJB412PGu9EREREROpGgalOKmm8G5s19qSMw8fDVac2B7cFjXeDHWcHoUQQlLoUlERERERE6k6BKWKVNN69OuUb7546GYapnjhsG4Ltw45kkca79qDxrlONdyIiIiIiDaPAFJHFGu/MjO9Mwp5jxovpcLy/3a8m3TZQvP67M2i8K9aGJyIiIiIi9aXAtEQzOb+iVKrxLmfGE0Hj3Rsz4fh5Xb7I4ca+4mUN3UFQSigoiYiIiIgsGwWmGlTSeDeXMx46DvtSxsR8OH75Gh+UrlxT/BwkBSURERERkeahwFSFShrv0lnjYMo4OBaex+SA69f5oLShp3gQ6o7DmjZVg4uIiIiINBMFpgpU0ng3PmfsSxkPjUMmuFPCwS0DcNewY6hTQUlEREREZKVRYCqjksa7o9O+8e7JE7BwGlNXHO4YhB3Djt62s4OQw19oNqmLzYqIiIiINDUFpiJmc0a6TJGDmfHiJOweNZ6fDMfXtfnGu9sHi9d/x4CehA9LCkoiIiIiIs1PgSmQD4ocpsoUOeTNXztp96hxdDocP6fTn590U1/xsoaFoNSTgJiCkoiIiIjIitHygSmbN6ZyMF3m/KT5vHH4OOwdNcYLGu8uSfqgdHVv8SAUc7Am4c9TKtaIJyIiIiIiza1lA9NccP2kUheaBZjKGg+MwcExYzLrxxxwzVoflC5OFg9BcefPT1JQEhERERFZ2VoqMFVy/SSAE/O+8e7QeHgeU8LBzf2wa8SxvkTjXSJYUepKKCSJiIiIiKwGLRGYcmZMZ2EqV/r6SQBvzvjGu8cmwsa7zhhsHYIdQ4517cWDUFvMryh1FSl6EBERERGRlaslAtPobOnbzIyX0r7I4cjpcLy3DXYOObYOlQ5C7TG/otShoCQiIiIisiqt+sBUakEpb8Yzp3xQemUqHB/p8Nvubu6HtiKNd+BXnZJt0F7idhERERERWR1WfWA6UyZvPDoBe0aN1Fw4fmE33L3ecc3a0tXfXXG/9a5UkBIRERERkdVlRQQm59xngV86Y3jUzNZXeoyZnPHgGOxPGaez4fjVvXD3iOOSZOlGu+4gKBW7xpKIiIiIiKxeKyIwBV4AdhS8n6vkg2bzjp9+onR3+JHT8MlLfRAqdr+/vT3GB7519vjXtsT5kUNnT+FrW+IAJW+rdrxRx/oPj+V4tWDFbUMHfGFzbR/zrw7lmCm4bxfwF8HjV/sxn3k6x7PpcHxTEj5/nT/Wbz+f48HjvqAjBmwdgE9dEeffHs4xloUfnoLfPZRjKAFfuqW2z7HU49dyrIV5LVjKvN5/KEfhV2UM+Moir30tH1Pqdbnv1RzfeAtmcn7l9b3nwAc3xPn4QzlOFzxIbwzuva2257jU8wUs+lwuvPYLz2WU3xPlviZL3VZqvNzzVepzLPf4pY73xESev3vTSM3CcCe871zHjf2xkt9DUPr7q9Sxyn0dl3ucYkp9fQElH7+Ucs9Xtc9LlPMqd/9St1X7GOWOVe5zacSxorQwr0un4TPP5ip6XmR10GsvjeLMytTGNYlghen9Zrap2o/tu+Im2/nHj0Q/qRawoYN3/AC0FF3AcETH25SE/g64//jZt7UBmeDvP3zyAf5h3R1lj1XL51j4GEs9VilRHgv8D31lLjlWVBe8IywVHmthrTXmwubJGMWfl94Y7/ghvhKl5jsU/IqnMEgUU8lrX4tSr/2mpH9b+IP5glLPYym9MeiIFf8cSz0vm5Lw2nTx57kL6O3wlz3oiMFc3l9WYait+Hy3Dfi3xb6/NiVhLHP2sfK54vPd0AEbksWPta1EaLrv1Rx/+3rw+RZ8fX3gfLh0jeOPXrazHv8nLw5/SDpw4AA7duwAzg5LhZ/H+95V/FilnpcNHfD6XO3zKvTERL7k/YGit+0cgv1jZz/3pR6j3ONsTMKh48U/l1JBJ8pjRalwXrekHuDw8B2LPi+yOui1F3jnv/lL5Zx73Mw2F7ttJX1FXeyce9M5933n3F875y6u7MO0ja5WUf7APhPh8Z5Nw4PBf9Cu4A8U/2G2nFrmVOoxony+ojwWVB+WoPQP+QvHSsT8D0iJ4F+RUs9LtWGp8DHONJZdPCzVU6nP8dl08R+yobqwBP75KvU5lnpenk2Xfp5n8D9kd8bBBW8TLpzvmd9DDx4v/f31bLr4sUrN99W50sd6sEiIAvjGW/7tmV9f33gL/u5NK/r4f/dm8V/8lXpNnk2XPlap52XhezKKeZW7f6nbvvFW8ee+1GOUe5yF577Y59KIY0WpcF5Q2fMiq4Nee2mklbLC9EPAGuB5YBj4BeAK4GozO+u/XefcPcA9AP3nX3TTr/3BvcRr+pFRVrK12TSnEsnlnsaqVPiDJPg2ymb6l0Sv/Tt1FPnV2FyN/yRGeaxLes4eezloLT3z6wv8D0PFTiXNG1zQ7f+eTqdJJv1r/9LU2fdd0FbiWOU+l2Jf95XOq9Br06XvD8Vvm8/7S1lU+hjlHmcuX/pzubjIaxL1saJUOK/uTJrpNv/al3teZHXQay/wzn/zl2rnzp0lV5hWRGA6k3MuCbwM/LqZ/Va5+1542Ua78d7nGjMxaZiFrUnF/pNeUK9tWQJxwt8kA2TzFZ5U2CB67d/pvM7wt7AAszl4I7g+3ZnfQwsva6nvr3LHKqbU9+rCOXRn+sjDOWZzZ399dcbhoiScmDv78fs64POb/GDh9oxi56ct2LS2+LFKPS9Q/Ou+0nkV+syzuZL3h+LHOpmBdW2VP0a5x3lr1n9+xT6XP7+1/seKUuG8rnvrAZ4+545FnxdZHfTaC2hLXllmlgaOAJct91xWsw0d0R2rK8LjbUr6k7AhXNlY+IGmrcpj1TKnUo8R5fMV5bGgtm/0rkWOlc373+Rlg9/Il3peemt48FIfMpQIz2NaDqU+x03J8DymM5V6HkvpjZX+HEs9L5uSpZ/nLvy5JrM5sOBt1sL5nvk9tHWg9PfXpmTxY5Wa74aO0sdaGD/Te8/xb8/8+nrvOb5koNjjv+/c4luvS70mm5Klj1XqeVn4noxiXuXuX+q2955T/Lkv9RjlHmfhuS/2uTTiWFEqnBdU9rzI6qDXXhppRQYm51wnfkteVbuk//LW4p/u17bE327MKnZbteMr8Vhn/oC+0HBV7cd8bUv8rB8QF5rVvrC5uo/52pb4WT/wLDRcfeqKONsGwi/gGP4k8r/ZEj/rh7ehRO2fY7HH/5sajxXlvM78So5R/rX/Sg0f8xclXpevbInzgfP9b/Vy5t9+4Hz/vJz5Q/tCS1u1z/FXSjxfX7olzpduqe65jPJ74m/KfE1+/rrit/1FiY/5Wpnnq9Tn+JUyj3/vbcWP9xdb4vzkxY6+DkgHv339yYsdn7+u+PfQp64o/f31+euKH+tLt5T+Oi51rFIteR/cUPzr64Mb4tzYHyv6+KVO8C71mnz+utLHKvW8fGFzdPMqd/9St31wQ/HnvtzJ7aWO9akrSn8ujThWlArnlbfKnhdZHfTaSyOtiC15zrn/DnwDeA1/DtMvAtuAa8zs1XIfe/nGjfbMc8/TEddvHFpNlMu0srLotW9deu1bl1771qXXvnU1akveSrkO0/nAXwGDwBjwMHDrYmEJ/N5qhSUREREREanFighMZvbh5Z6DiIiIiIi0Hm30FBERERERKUGBSUREREREpAQFJhERERERkRIUmEREREREREpQYBIRERERESlBgUlERERERKQEBSYREREREZESFJhERERERERKUGASEREREREpQYFJRERERESkBAUmERERERGREhSYRERERERESlBgEhERERERKUGBSUREREREpAQFJhERERERkf+/vXuPtqMs7zj+/ZFwhxAiSKwJiYiQImkJl0ogQIIiLCkVG1qWqKzUemFRWlftkhq0GLRoaeRqvOECwQCFAkIJCiIugiVBJFw1JJFKwj0J4Z4QAoSnf7zvJpPJnpOTsPfZObN/n7VmzdnzvrP3c86zz9nznHnnnQoumMzMzMzMzCq4YDIzMzMzM6vggsnMzMzMzKyCIqLTMbSVpJeBBZ2OwzpiJ2BZp4OwjnDuu5dz372c++7l3HevVuZ+RETs3KxhYIteYFO2ICL273QQ1vckzXHuu5Nz372c++7l3Hcv57579VXuPSTPzMzMzMysggsmMzMzMzOzCt1QMF3Y6QCsY5z77uXcdy/nvns5993Lue9efZL72k/6YGZmZmZmtrG64QyTmZmZmZnZRnHBZGZmZmZmVqG2BZOkkyUtlPSqpHskHdLpmKy1JE2WdLeklyQ9I2mGpL1LfSRpiqSnJK2UNFPS+zsVs7VHfi+EpGmFbc59TUl6l6RL8+/9q5IeknRYod25ryFJAyR9o/DZvlDSv0saWOjj3NeApEMl3SDpyfy3fVKpfb15lrSjpOmSXszLdEmD+/QbsQ3WU+4lbS7pLEkPSloh6WlJV0jatfQcW0r6jqRlud8Nkoa9nbhqWTBJOh44H/gmMAaYDdxU/oFavzce+B5wEHA48AZwq6QhhT6nAv8C/CNwALAU+KWk7fs2VGsXSQcCnwMeLDU59zWUD3hmAQKOBv6UlOOlhW7OfT39K/APwD8Bo4Av5MeTC32c+3rYDvg9Kccrm7T3Js9XAPsCR+VlX2B6G2O21ugp99uQ8nhmXn8UGA7cXPzHCXAeMBH4OHAIMAi4UdKAjY4qImq3AHcBPyptexj4Vqdj89LWvG8HrAaOyY8FPA18pdBna+Bl4POdjtdLS3K+A/BHYAIwE5jm3Nd7If0jbFYP7c59TRfgRuDS0rZLgRud+/ouwHJgUuHxevNM+kdKAAcX+ozL2/bs9PfkZeNyX9Fnr5zX0fnxDsBrwCcKfYYDbwJHbmwstTvDJGkLYD/gllLTLaQzEVZf25POmj6fH78HGErhvRARK4Ff4/dCXVwIXBMRt5W2O/f1dSxwl6SrJC2VdL+kUyQptzv39XUHMEHSKABJe5FGF/w8tzv33aE3eR5LOtieXdhvFrACvxfqZlBeN4799gM2Z+33x+PAPN5G7geuv0u/sxMwAFhS2r4E+FDfh2N96HzgfuDO/HhoXjd7L7y7r4Ky9pD0WWB34JNNmp37+toNOBk4F/gPYB/gO7ltGs59nZ1F+sfYQ5JWk45hzoyI7+V257479CbPQ4FnIp9eAIiIkLS0sL/1c/kkydnAjIh4Im8eShpttKzUfQlvI/d1LJisC0k6h3S6fVxErO50PNZekvYkDc0aFxGvdzoe61ObAXMionHdyn2S3ke6lmVa9W5WA8cDJwInAHNJxfL5khZGxEUdjczM+lS+ZukyYDDwV+1+vdoNySNVlKuBXUrbdwEW93041m6SziVd2Hd4RDxSaGrk2++F+hlLOps8V9Ibkt4ADgNOzl8/m/s59/XzNPBQads8oDGpj3/v62sq8O2IuDIifhcR04FzWDPpg3PfHXqT58XAzoWhuuSv34nfC/1eLpb+C/gz4IMR8WyheTFppNlOpd3e1t+B2hVMEfEacA9wRKnpCNYey2o1IOl81hRL80vNC0m/HEcU+m9FmjHF74X+7XpgNOk/zI1lDnBl/voPOPd1NQvYs7RtD+DR/LV/7+trG9I/RItWs+ZYxrnvDr3J852kiaDGFvYbC2yL3wv9mqTNgatIxdKEiCgXQfcAr7P2+2MYaSKQjc59XYfknQNMl/Rb0ofrScCfAD/oaFTWUpK+C3yKdBH485IaY1OXR8TyPF75POA0SfNJB9FfJV0IekVHgraWiIgXgBeK2yStAJ6LiN/nx859PZ0LzJb0FdKH5hjSNNOnwVvXKTj39TQD+LKkhaQheWOALwI/Aee+TiRtR7pGFVJBvKukfUh/4x9bX54jYp6km4EfSvpcfp4fkmZUXNCX34ttmJ5yDzwFXE2aSv4YIArHfi9GxMqIeFHSRcB/5mvWniXVBQ8Ct250YJ2eMrCNUxGeDCwCVpGqzUM7HZOXluc4KpYphT4CppCG8bwK3A7s3enYvbTl/TCTPK24c1/vhXT/pQdyXv9AKpjk3Nd7IU34cB7pbOJK4BHStYxbOff1Wkj3WWz2+X5Jb/MM7Ei6xuWlvFwGDO709+Zl43MPjOzh2G9S4Tm2JE0G9CzwCumfLcPfTlzKT2xmZmZmZmYltbuGyczMzMzMrFVcMJmZmZmZmVVwwWRmZmZmZlbBBZOZmZmZmVkFF0xmZmZmZmYVXDCZmZmZmZlVcMFkZmb9lqSRkkLSohY81/T8XJf0sv+03P+6jXy9lsVuZmbt44LJzMx6TdL4fJA/s9OxtMHFeX1cvtt8JUlbAieU9jMzsxpywWRmZpbMBB4BtgX+Zj19PwrsCCwGbmpvWGZm1kkumMzMzICICOCS/HDSerr/XV7/JCLeaFdMZmbWeS6YzMxqQtIHJE2VNEfSEkmvSXpK0jWSDuzFvpdLelTSKknL8vOcIekduc9M4La8y2F5aF6Uh+hJWpS3jax4rZm5fXxp+whJkyXdJunxHMdz+fEJzZ6rDS4B3gQOkbRbsw6S3g18OD+8OG9rWey9ubap8XOvaNtW0qmS7pb0kqSVkuZKmtJsqKGkAZJOkjRb0ov5fbNE0r2Szpa084bEb2ZWNy6YzMzq40zgn4HNgd8CNwDPAhOBOyQ1HWYmaTJwJ+manJeB64C7gB2A04HRuevNwC/y10uASwvLzS2I/1PAN4HhwPwcx0PAIcDlki5owWv0KCIeB24FRPVZphNJn5+zI2JB3tbx2AEkDSPl/ixgBCmvt5CGD34NmCVpx9JuFwHfB/Yh5f0a4AFS/r8IvLcvYjcz21QpjUAwM7P+TtJRwH0RsaS0/RjgWlIxNDwiXim0fQz4KbAcOCEiZpT2PQB4OiKeyI/Hk84y3R4R4yviWEQ6WH9PRCxq0j4TOAyYEBEzS6/1SkTMLfV/H/ArUjFyYETcVWgbCSwEHo2Ikc3i2VCSjgeuBB4DRkbpg1LSfGBP4DMRcVGrY+/N99Q4uxQRKmwTMAsYC0wDTo2Ilblta+BC4JPApRExKW8fASwCHgcOaPLe2Qd4KiKWVv28zMzqzmeYzMxqIiJuLh/w5u0zgKuBIcCEUvPX8vpL5WIp73t3o1hqt/xac5tsfxj4Rn54XB+Ecj3wHLArcHixQdJBpGJpBXBVIcZNIfajSMXSb4AvNIqlHMdK4CRgKfCJwlmmd+b1vRXvnftdLJlZtxvY6QDMzKx1JO0E/CWwNzCYNX/n987rPYCf5b5DgT8HXicNq+s4SVsBRwIHADsDW+amd+X1Hu2OISJWSboCOIU0ucOvCs2NyR6ujojlxf02gdg/ktfXRsSb5caIWCFpTu53AGmo3nzSmcejJZ0GXB4Rj7Y5TjOzfsUFk5lZTUj6PHAOsE0P3QYVvh6R148Vz0Z0iqSxwH8Dw3roNqiHtla6mFQwfUzSoIh4SdI2wN8W2t+yicTemKRiqqSp6+m7M0BEvCzp06Tv50zgTElPkq59+hlwZUS82q6Azcz6Aw/JMzOrgXwNzfdJEz58CRgFbAdslq9z+Vaja2G3Tl3Eus5nTy5GriMVHBcB+5POkA3I8R/Z6NoXAUbEfcD9pOLz+Lx5IqnoeTgi/rdTsUuq+uwekNe3s/aEHM2Wt84iRcQ1pOGHk0iF03LS8MEfA/MlDW9F3GZm/ZXPMJmZ1cNE0gH5BRHx7SbtuzfZ9lheD5e0dQvPMr2W1+tMYZ2NaLLtUGAX4J6I+EyT9mbxt9vFwAWkQuJHrJk178elfq2OfWN+fpAmboA0XPC7G/KCEfECa4opJL2X9D1PIM2411fTupuZbXJ8hsnMrB6G5PXj5YZ8H50jytsjYjHwILAFaars3mgczPf0D7cn83pUk1j2Js0YV1YZf9aJA/bLgVXAQZI+TCoeVrPu9V6tjv0Z0s/5HRX3QPpIk20AN+V10+njN0RE/JE0RA/SdW5mZl3LBZOZWT3Mz+sTizcnlbQ96UzJ4Ir9zsjrqZLWORCXtH++t09DoxjaXVJV0dSYJOFUSW9dt5OHdl1C86FpjfgPlzSqsM9mkk4HDq54rbaJiOeA/8kPLyPF/YuIeKrUtaWxR8TrQGPI3xl5uvDGc44Dvl6x6/XAPaSbCv9A0pByB0lDJX228HiMpOPztONlx+S1J4Ews67m+zCZmdVAnib6AdLZm2eAO0gH+IeSzlb8HPg0cEZETCntezprCqffAXOB7UnTZ+/OuvdLuhcYA8wjHaCvAhZExNQmsSwmTSAwGPgL0k1VtwQOavK8M0gz/K0i3evpRdJsbruSJrM4ldL9n9pxH6YiSUey9k15j4uIa5v0a2nsefry20hn/+aRcjIC2I90g9yvwtr3Ycr7DSPlejRp9rsHSGe+tiLN0rcXsDQihub+x5Kuv3oFuDf33YKU393ycxweEXN68eMyM6sln2EyM6uBiHieNNnAhaSL9o/Oj38K7Ev1cDEi4uvAIaR7Ne1Euh7qA8DzwBTSsL2ivybNCDcE+Djw9/n1irEcTBrSNjC3DQOmku4V9HpFKBOBLwP/B4wHPkgqFMaxZrhZX/sla352y4AbKvq1NPaImJ2fo3HT28bZvxMj4t962O8JUmF6CnAf8H7SBA5jgVeBs0n5a/gNMBn4NSlHxwIfIhVQZwOjXSyZWbfzGSYzMzMzM7MKPsNkZmZmZmZWwQWTmZmZmZlZBRdMZmZmZmZmFVwwmZmZmZmZVXDBZGZmZmZmVsEFk5mZmZmZWQUXTGZmZmZmZhVcMJmZmZmZmVVwwWRmZmZmZlbBBZOZmZmZmVmF/wcn10/4mM8+vQAAAABJRU5ErkJggg==\n",
                "text/plain": "<Figure size 1008x576 with 1 Axes>"
              },
              {
                "output_type": "display_data",
                "metadata": {
                  "tags": []
                },
                "text/plain": "(<matplotlib.axes._subplots.AxesSubplot at 0x7fa1ff495588>,\n <Figure size 1008x576 with 1 Axes>)"
              }
            ],
            "_view_module": "@jupyter-widgets/output",
            "_model_module_version": "1.0.0",
            "_view_count": null,
            "_view_module_version": "1.0.0",
            "layout": "IPY_MODEL_03701335fec8424a9bd941ed6392f4de",
            "_model_module": "@jupyter-widgets/output"
          }
        },
        "20523e87742740af8115450b0f33573a": {
          "model_module": "@jupyter-widgets/controls",
          "model_name": "DescriptionStyleModel",
          "state": {
            "_view_name": "StyleView",
            "_model_name": "DescriptionStyleModel",
            "description_width": "",
            "_view_module": "@jupyter-widgets/base",
            "_model_module_version": "1.5.0",
            "_view_count": null,
            "_view_module_version": "1.2.0",
            "_model_module": "@jupyter-widgets/controls"
          }
        },
        "4609e7fed5d74737b2b871d669e69cb7": {
          "model_module": "@jupyter-widgets/base",
          "model_name": "LayoutModel",
          "state": {
            "_view_name": "LayoutView",
            "grid_template_rows": null,
            "right": null,
            "justify_content": null,
            "_view_module": "@jupyter-widgets/base",
            "overflow": null,
            "_model_module_version": "1.2.0",
            "_view_count": null,
            "flex_flow": null,
            "width": null,
            "min_width": null,
            "border": null,
            "align_items": null,
            "bottom": null,
            "_model_module": "@jupyter-widgets/base",
            "top": null,
            "grid_column": null,
            "overflow_y": null,
            "overflow_x": null,
            "grid_auto_flow": null,
            "grid_area": null,
            "grid_template_columns": null,
            "flex": null,
            "_model_name": "LayoutModel",
            "justify_items": null,
            "grid_row": null,
            "max_height": null,
            "align_content": null,
            "visibility": null,
            "align_self": null,
            "height": null,
            "min_height": null,
            "padding": null,
            "grid_auto_rows": null,
            "grid_gap": null,
            "max_width": null,
            "order": null,
            "_view_module_version": "1.2.0",
            "grid_template_areas": null,
            "object_position": null,
            "object_fit": null,
            "grid_auto_columns": null,
            "margin": null,
            "display": null,
            "left": null
          }
        },
        "7a07a3596a6f4a98a99675479ebe783f": {
          "model_module": "@jupyter-widgets/controls",
          "model_name": "DescriptionStyleModel",
          "state": {
            "_view_name": "StyleView",
            "_model_name": "DescriptionStyleModel",
            "description_width": "",
            "_view_module": "@jupyter-widgets/base",
            "_model_module_version": "1.5.0",
            "_view_count": null,
            "_view_module_version": "1.2.0",
            "_model_module": "@jupyter-widgets/controls"
          }
        },
        "38b961396c7e46dcbb0bc9592735a3fc": {
          "model_module": "@jupyter-widgets/base",
          "model_name": "LayoutModel",
          "state": {
            "_view_name": "LayoutView",
            "grid_template_rows": null,
            "right": null,
            "justify_content": null,
            "_view_module": "@jupyter-widgets/base",
            "overflow": null,
            "_model_module_version": "1.2.0",
            "_view_count": null,
            "flex_flow": null,
            "width": null,
            "min_width": null,
            "border": null,
            "align_items": null,
            "bottom": null,
            "_model_module": "@jupyter-widgets/base",
            "top": null,
            "grid_column": null,
            "overflow_y": null,
            "overflow_x": null,
            "grid_auto_flow": null,
            "grid_area": null,
            "grid_template_columns": null,
            "flex": null,
            "_model_name": "LayoutModel",
            "justify_items": null,
            "grid_row": null,
            "max_height": null,
            "align_content": null,
            "visibility": null,
            "align_self": null,
            "height": null,
            "min_height": null,
            "padding": null,
            "grid_auto_rows": null,
            "grid_gap": null,
            "max_width": null,
            "order": null,
            "_view_module_version": "1.2.0",
            "grid_template_areas": null,
            "object_position": null,
            "object_fit": null,
            "grid_auto_columns": null,
            "margin": null,
            "display": null,
            "left": null
          }
        },
        "03701335fec8424a9bd941ed6392f4de": {
          "model_module": "@jupyter-widgets/base",
          "model_name": "LayoutModel",
          "state": {
            "_view_name": "LayoutView",
            "grid_template_rows": null,
            "right": null,
            "justify_content": null,
            "_view_module": "@jupyter-widgets/base",
            "overflow": null,
            "_model_module_version": "1.2.0",
            "_view_count": null,
            "flex_flow": null,
            "width": null,
            "min_width": null,
            "border": null,
            "align_items": null,
            "bottom": null,
            "_model_module": "@jupyter-widgets/base",
            "top": null,
            "grid_column": null,
            "overflow_y": null,
            "overflow_x": null,
            "grid_auto_flow": null,
            "grid_area": null,
            "grid_template_columns": null,
            "flex": null,
            "_model_name": "LayoutModel",
            "justify_items": null,
            "grid_row": null,
            "max_height": null,
            "align_content": null,
            "visibility": null,
            "align_self": null,
            "height": null,
            "min_height": null,
            "padding": null,
            "grid_auto_rows": null,
            "grid_gap": null,
            "max_width": null,
            "order": null,
            "_view_module_version": "1.2.0",
            "grid_template_areas": null,
            "object_position": null,
            "object_fit": null,
            "grid_auto_columns": null,
            "margin": null,
            "display": null,
            "left": null
          }
        }
      }
    }
  },
  "cells": [
    {
      "cell_type": "code",
      "metadata": {
        "id": "ZfH6pxAat55d"
      },
      "source": [
        "#import\r\n",
        "\r\n",
        "import pandas as pd\r\n",
        "import numpy as np\r\n",
        "import matplotlib.pyplot as plt\r\n",
        "import seaborn as sns\r\n",
        "import scipy.stats as stats \r\n",
        "from IPython.display import clear_output\r\n",
        "!pip install bdtk PyOD -q\r\n",
        "from bdtk import BDTK\r\n",
        "from pyod.models import loda, sos\r\n",
        "\r\n",
        "%matplotlib inline"
      ],
      "execution_count": 11,
      "outputs": []
    },
    {
      "cell_type": "code",
      "metadata": {
        "colab": {
          "base_uri": "https://localhost:8080/",
          "height": 419
        },
        "id": "jRZ0Bbc9uvV0",
        "outputId": "7206e31e-ee68-4d01-aec5-7b20e2b790ef"
      },
      "source": [
        "og_df = pd.read_csv(\"training.csv\", encoding='utf8')\r\n",
        "og_df"
      ],
      "execution_count": 12,
      "outputs": [
        {
          "output_type": "execute_result",
          "data": {
            "text/html": [
              "<div>\n",
              "<style scoped>\n",
              "    .dataframe tbody tr th:only-of-type {\n",
              "        vertical-align: middle;\n",
              "    }\n",
              "\n",
              "    .dataframe tbody tr th {\n",
              "        vertical-align: top;\n",
              "    }\n",
              "\n",
              "    .dataframe thead th {\n",
              "        text-align: right;\n",
              "    }\n",
              "</style>\n",
              "<table border=\"1\" class=\"dataframe\">\n",
              "  <thead>\n",
              "    <tr style=\"text-align: right;\">\n",
              "      <th></th>\n",
              "      <th>StoreNumber</th>\n",
              "      <th>dayOfTheYear</th>\n",
              "      <th>3HourBucket</th>\n",
              "      <th>GrossSoldQuantity</th>\n",
              "      <th>Cash/Credit Site</th>\n",
              "      <th>EBT Site</th>\n",
              "      <th>Loyalty Site</th>\n",
              "      <th>ExtraMile Site</th>\n",
              "      <th>CoBrand</th>\n",
              "      <th>Alcohol</th>\n",
              "      <th>Carwash</th>\n",
              "      <th>Food Service</th>\n",
              "      <th>City</th>\n",
              "      <th>State</th>\n",
              "    </tr>\n",
              "  </thead>\n",
              "  <tbody>\n",
              "    <tr>\n",
              "      <th>0</th>\n",
              "      <td>1000</td>\n",
              "      <td>1</td>\n",
              "      <td>1</td>\n",
              "      <td>3</td>\n",
              "      <td>False</td>\n",
              "      <td>True</td>\n",
              "      <td>True</td>\n",
              "      <td>True</td>\n",
              "      <td>No</td>\n",
              "      <td>True</td>\n",
              "      <td>False</td>\n",
              "      <td>True</td>\n",
              "      <td>HOUSTON</td>\n",
              "      <td>TX</td>\n",
              "    </tr>\n",
              "    <tr>\n",
              "      <th>1</th>\n",
              "      <td>1000</td>\n",
              "      <td>1</td>\n",
              "      <td>2</td>\n",
              "      <td>5</td>\n",
              "      <td>False</td>\n",
              "      <td>True</td>\n",
              "      <td>True</td>\n",
              "      <td>True</td>\n",
              "      <td>No</td>\n",
              "      <td>True</td>\n",
              "      <td>False</td>\n",
              "      <td>True</td>\n",
              "      <td>HOUSTON</td>\n",
              "      <td>TX</td>\n",
              "    </tr>\n",
              "    <tr>\n",
              "      <th>2</th>\n",
              "      <td>1000</td>\n",
              "      <td>1</td>\n",
              "      <td>3</td>\n",
              "      <td>6</td>\n",
              "      <td>False</td>\n",
              "      <td>True</td>\n",
              "      <td>True</td>\n",
              "      <td>True</td>\n",
              "      <td>No</td>\n",
              "      <td>True</td>\n",
              "      <td>False</td>\n",
              "      <td>True</td>\n",
              "      <td>HOUSTON</td>\n",
              "      <td>TX</td>\n",
              "    </tr>\n",
              "    <tr>\n",
              "      <th>3</th>\n",
              "      <td>1000</td>\n",
              "      <td>1</td>\n",
              "      <td>4</td>\n",
              "      <td>3</td>\n",
              "      <td>False</td>\n",
              "      <td>True</td>\n",
              "      <td>True</td>\n",
              "      <td>True</td>\n",
              "      <td>No</td>\n",
              "      <td>True</td>\n",
              "      <td>False</td>\n",
              "      <td>True</td>\n",
              "      <td>HOUSTON</td>\n",
              "      <td>TX</td>\n",
              "    </tr>\n",
              "    <tr>\n",
              "      <th>4</th>\n",
              "      <td>1000</td>\n",
              "      <td>2</td>\n",
              "      <td>1</td>\n",
              "      <td>13</td>\n",
              "      <td>False</td>\n",
              "      <td>True</td>\n",
              "      <td>True</td>\n",
              "      <td>True</td>\n",
              "      <td>No</td>\n",
              "      <td>True</td>\n",
              "      <td>False</td>\n",
              "      <td>True</td>\n",
              "      <td>HOUSTON</td>\n",
              "      <td>TX</td>\n",
              "    </tr>\n",
              "    <tr>\n",
              "      <th>...</th>\n",
              "      <td>...</td>\n",
              "      <td>...</td>\n",
              "      <td>...</td>\n",
              "      <td>...</td>\n",
              "      <td>...</td>\n",
              "      <td>...</td>\n",
              "      <td>...</td>\n",
              "      <td>...</td>\n",
              "      <td>...</td>\n",
              "      <td>...</td>\n",
              "      <td>...</td>\n",
              "      <td>...</td>\n",
              "      <td>...</td>\n",
              "      <td>...</td>\n",
              "    </tr>\n",
              "    <tr>\n",
              "      <th>5655</th>\n",
              "      <td>4000</td>\n",
              "      <td>362</td>\n",
              "      <td>2</td>\n",
              "      <td>20</td>\n",
              "      <td>False</td>\n",
              "      <td>False</td>\n",
              "      <td>True</td>\n",
              "      <td>True</td>\n",
              "      <td>No</td>\n",
              "      <td>False</td>\n",
              "      <td>True</td>\n",
              "      <td>True</td>\n",
              "      <td>SAN ANTONiO</td>\n",
              "      <td>TX</td>\n",
              "    </tr>\n",
              "    <tr>\n",
              "      <th>5656</th>\n",
              "      <td>4000</td>\n",
              "      <td>362</td>\n",
              "      <td>3</td>\n",
              "      <td>26</td>\n",
              "      <td>False</td>\n",
              "      <td>False</td>\n",
              "      <td>True</td>\n",
              "      <td>True</td>\n",
              "      <td>No</td>\n",
              "      <td>False</td>\n",
              "      <td>True</td>\n",
              "      <td>True</td>\n",
              "      <td>SAN ANTONiO</td>\n",
              "      <td>TX</td>\n",
              "    </tr>\n",
              "    <tr>\n",
              "      <th>5657</th>\n",
              "      <td>4000</td>\n",
              "      <td>362</td>\n",
              "      <td>4</td>\n",
              "      <td>37</td>\n",
              "      <td>False</td>\n",
              "      <td>False</td>\n",
              "      <td>True</td>\n",
              "      <td>True</td>\n",
              "      <td>No</td>\n",
              "      <td>False</td>\n",
              "      <td>True</td>\n",
              "      <td>True</td>\n",
              "      <td>SAN ANTONiO</td>\n",
              "      <td>TX</td>\n",
              "    </tr>\n",
              "    <tr>\n",
              "      <th>5658</th>\n",
              "      <td>4000</td>\n",
              "      <td>363</td>\n",
              "      <td>3</td>\n",
              "      <td>27</td>\n",
              "      <td>False</td>\n",
              "      <td>False</td>\n",
              "      <td>True</td>\n",
              "      <td>True</td>\n",
              "      <td>No</td>\n",
              "      <td>False</td>\n",
              "      <td>True</td>\n",
              "      <td>True</td>\n",
              "      <td>SAN ANTONiO</td>\n",
              "      <td>TX</td>\n",
              "    </tr>\n",
              "    <tr>\n",
              "      <th>5659</th>\n",
              "      <td>4000</td>\n",
              "      <td>363</td>\n",
              "      <td>4</td>\n",
              "      <td>43</td>\n",
              "      <td>False</td>\n",
              "      <td>False</td>\n",
              "      <td>True</td>\n",
              "      <td>True</td>\n",
              "      <td>No</td>\n",
              "      <td>False</td>\n",
              "      <td>True</td>\n",
              "      <td>True</td>\n",
              "      <td>SAN ANTONiO</td>\n",
              "      <td>TX</td>\n",
              "    </tr>\n",
              "  </tbody>\n",
              "</table>\n",
              "<p>5660 rows × 14 columns</p>\n",
              "</div>"
            ],
            "text/plain": [
              "      StoreNumber  dayOfTheYear  3HourBucket  ...  Food Service         City  State\n",
              "0            1000             1            1  ...          True      HOUSTON     TX\n",
              "1            1000             1            2  ...          True      HOUSTON     TX\n",
              "2            1000             1            3  ...          True      HOUSTON     TX\n",
              "3            1000             1            4  ...          True      HOUSTON     TX\n",
              "4            1000             2            1  ...          True      HOUSTON     TX\n",
              "...           ...           ...          ...  ...           ...          ...    ...\n",
              "5655         4000           362            2  ...          True  SAN ANTONiO     TX\n",
              "5656         4000           362            3  ...          True  SAN ANTONiO     TX\n",
              "5657         4000           362            4  ...          True  SAN ANTONiO     TX\n",
              "5658         4000           363            3  ...          True  SAN ANTONiO     TX\n",
              "5659         4000           363            4  ...          True  SAN ANTONiO     TX\n",
              "\n",
              "[5660 rows x 14 columns]"
            ]
          },
          "metadata": {
            "tags": []
          },
          "execution_count": 12
        }
      ]
    },
    {
      "cell_type": "code",
      "metadata": {
        "colab": {
          "base_uri": "https://localhost:8080/",
          "height": 297
        },
        "id": "H0nm214uwgZb",
        "outputId": "3c239169-abf0-4f1a-b083-77d37cd5fff1"
      },
      "source": [
        "og_df.describe()"
      ],
      "execution_count": 13,
      "outputs": [
        {
          "output_type": "execute_result",
          "data": {
            "text/html": [
              "<div>\n",
              "<style scoped>\n",
              "    .dataframe tbody tr th:only-of-type {\n",
              "        vertical-align: middle;\n",
              "    }\n",
              "\n",
              "    .dataframe tbody tr th {\n",
              "        vertical-align: top;\n",
              "    }\n",
              "\n",
              "    .dataframe thead th {\n",
              "        text-align: right;\n",
              "    }\n",
              "</style>\n",
              "<table border=\"1\" class=\"dataframe\">\n",
              "  <thead>\n",
              "    <tr style=\"text-align: right;\">\n",
              "      <th></th>\n",
              "      <th>StoreNumber</th>\n",
              "      <th>dayOfTheYear</th>\n",
              "      <th>3HourBucket</th>\n",
              "      <th>GrossSoldQuantity</th>\n",
              "    </tr>\n",
              "  </thead>\n",
              "  <tbody>\n",
              "    <tr>\n",
              "      <th>count</th>\n",
              "      <td>5660.000000</td>\n",
              "      <td>5660.000000</td>\n",
              "      <td>5660.000000</td>\n",
              "      <td>5660.000000</td>\n",
              "    </tr>\n",
              "    <tr>\n",
              "      <th>mean</th>\n",
              "      <td>2500.706714</td>\n",
              "      <td>181.631449</td>\n",
              "      <td>2.504240</td>\n",
              "      <td>22.690989</td>\n",
              "    </tr>\n",
              "    <tr>\n",
              "      <th>std</th>\n",
              "      <td>1118.132545</td>\n",
              "      <td>104.530966</td>\n",
              "      <td>1.115276</td>\n",
              "      <td>22.281150</td>\n",
              "    </tr>\n",
              "    <tr>\n",
              "      <th>min</th>\n",
              "      <td>1000.000000</td>\n",
              "      <td>1.000000</td>\n",
              "      <td>1.000000</td>\n",
              "      <td>0.000000</td>\n",
              "    </tr>\n",
              "    <tr>\n",
              "      <th>25%</th>\n",
              "      <td>2000.000000</td>\n",
              "      <td>91.000000</td>\n",
              "      <td>2.000000</td>\n",
              "      <td>5.000000</td>\n",
              "    </tr>\n",
              "    <tr>\n",
              "      <th>50%</th>\n",
              "      <td>2500.000000</td>\n",
              "      <td>181.000000</td>\n",
              "      <td>3.000000</td>\n",
              "      <td>13.000000</td>\n",
              "    </tr>\n",
              "    <tr>\n",
              "      <th>75%</th>\n",
              "      <td>4000.000000</td>\n",
              "      <td>272.000000</td>\n",
              "      <td>3.000000</td>\n",
              "      <td>36.000000</td>\n",
              "    </tr>\n",
              "    <tr>\n",
              "      <th>max</th>\n",
              "      <td>4000.000000</td>\n",
              "      <td>363.000000</td>\n",
              "      <td>4.000000</td>\n",
              "      <td>184.000000</td>\n",
              "    </tr>\n",
              "  </tbody>\n",
              "</table>\n",
              "</div>"
            ],
            "text/plain": [
              "       StoreNumber  dayOfTheYear  3HourBucket  GrossSoldQuantity\n",
              "count  5660.000000   5660.000000  5660.000000        5660.000000\n",
              "mean   2500.706714    181.631449     2.504240          22.690989\n",
              "std    1118.132545    104.530966     1.115276          22.281150\n",
              "min    1000.000000      1.000000     1.000000           0.000000\n",
              "25%    2000.000000     91.000000     2.000000           5.000000\n",
              "50%    2500.000000    181.000000     3.000000          13.000000\n",
              "75%    4000.000000    272.000000     3.000000          36.000000\n",
              "max    4000.000000    363.000000     4.000000         184.000000"
            ]
          },
          "metadata": {
            "tags": []
          },
          "execution_count": 13
        }
      ]
    },
    {
      "cell_type": "code",
      "metadata": {
        "colab": {
          "base_uri": "https://localhost:8080/",
          "height": 204
        },
        "id": "o590hHeWwjvz",
        "outputId": "bad823b5-5e6e-4bfd-ba34-c41d39272fda"
      },
      "source": [
        "og_df.head()"
      ],
      "execution_count": 20,
      "outputs": [
        {
          "output_type": "execute_result",
          "data": {
            "text/html": [
              "<div>\n",
              "<style scoped>\n",
              "    .dataframe tbody tr th:only-of-type {\n",
              "        vertical-align: middle;\n",
              "    }\n",
              "\n",
              "    .dataframe tbody tr th {\n",
              "        vertical-align: top;\n",
              "    }\n",
              "\n",
              "    .dataframe thead th {\n",
              "        text-align: right;\n",
              "    }\n",
              "</style>\n",
              "<table border=\"1\" class=\"dataframe\">\n",
              "  <thead>\n",
              "    <tr style=\"text-align: right;\">\n",
              "      <th></th>\n",
              "      <th>StoreNumber</th>\n",
              "      <th>dayOfTheYear</th>\n",
              "      <th>3HourBucket</th>\n",
              "      <th>GrossSoldQuantity</th>\n",
              "      <th>Cash/Credit Site</th>\n",
              "      <th>EBT Site</th>\n",
              "      <th>Loyalty Site</th>\n",
              "      <th>ExtraMile Site</th>\n",
              "      <th>CoBrand</th>\n",
              "      <th>Alcohol</th>\n",
              "      <th>Carwash</th>\n",
              "      <th>Food Service</th>\n",
              "      <th>City</th>\n",
              "      <th>State</th>\n",
              "    </tr>\n",
              "  </thead>\n",
              "  <tbody>\n",
              "    <tr>\n",
              "      <th>0</th>\n",
              "      <td>1000</td>\n",
              "      <td>1</td>\n",
              "      <td>1</td>\n",
              "      <td>3</td>\n",
              "      <td>False</td>\n",
              "      <td>True</td>\n",
              "      <td>True</td>\n",
              "      <td>True</td>\n",
              "      <td>0</td>\n",
              "      <td>True</td>\n",
              "      <td>False</td>\n",
              "      <td>True</td>\n",
              "      <td>HOUSTON</td>\n",
              "      <td>TX</td>\n",
              "    </tr>\n",
              "    <tr>\n",
              "      <th>1</th>\n",
              "      <td>1000</td>\n",
              "      <td>1</td>\n",
              "      <td>2</td>\n",
              "      <td>5</td>\n",
              "      <td>False</td>\n",
              "      <td>True</td>\n",
              "      <td>True</td>\n",
              "      <td>True</td>\n",
              "      <td>0</td>\n",
              "      <td>True</td>\n",
              "      <td>False</td>\n",
              "      <td>True</td>\n",
              "      <td>HOUSTON</td>\n",
              "      <td>TX</td>\n",
              "    </tr>\n",
              "    <tr>\n",
              "      <th>2</th>\n",
              "      <td>1000</td>\n",
              "      <td>1</td>\n",
              "      <td>3</td>\n",
              "      <td>6</td>\n",
              "      <td>False</td>\n",
              "      <td>True</td>\n",
              "      <td>True</td>\n",
              "      <td>True</td>\n",
              "      <td>0</td>\n",
              "      <td>True</td>\n",
              "      <td>False</td>\n",
              "      <td>True</td>\n",
              "      <td>HOUSTON</td>\n",
              "      <td>TX</td>\n",
              "    </tr>\n",
              "    <tr>\n",
              "      <th>3</th>\n",
              "      <td>1000</td>\n",
              "      <td>1</td>\n",
              "      <td>4</td>\n",
              "      <td>3</td>\n",
              "      <td>False</td>\n",
              "      <td>True</td>\n",
              "      <td>True</td>\n",
              "      <td>True</td>\n",
              "      <td>0</td>\n",
              "      <td>True</td>\n",
              "      <td>False</td>\n",
              "      <td>True</td>\n",
              "      <td>HOUSTON</td>\n",
              "      <td>TX</td>\n",
              "    </tr>\n",
              "    <tr>\n",
              "      <th>4</th>\n",
              "      <td>1000</td>\n",
              "      <td>2</td>\n",
              "      <td>1</td>\n",
              "      <td>13</td>\n",
              "      <td>False</td>\n",
              "      <td>True</td>\n",
              "      <td>True</td>\n",
              "      <td>True</td>\n",
              "      <td>0</td>\n",
              "      <td>True</td>\n",
              "      <td>False</td>\n",
              "      <td>True</td>\n",
              "      <td>HOUSTON</td>\n",
              "      <td>TX</td>\n",
              "    </tr>\n",
              "  </tbody>\n",
              "</table>\n",
              "</div>"
            ],
            "text/plain": [
              "   StoreNumber  dayOfTheYear  3HourBucket  ...  Food Service     City  State\n",
              "0         1000             1            1  ...          True  HOUSTON     TX\n",
              "1         1000             1            2  ...          True  HOUSTON     TX\n",
              "2         1000             1            3  ...          True  HOUSTON     TX\n",
              "3         1000             1            4  ...          True  HOUSTON     TX\n",
              "4         1000             2            1  ...          True  HOUSTON     TX\n",
              "\n",
              "[5 rows x 14 columns]"
            ]
          },
          "metadata": {
            "tags": []
          },
          "execution_count": 20
        }
      ]
    },
    {
      "cell_type": "code",
      "metadata": {
        "id": "oSbTeU7f0Be4"
      },
      "source": [
        "\r\n",
        "og_df = og_df.replace(to_replace= ['True','False'],value = ['1','0'])"
      ],
      "execution_count": 21,
      "outputs": []
    },
    {
      "cell_type": "code",
      "metadata": {
        "id": "KVrxts920GC9"
      },
      "source": [
        "df = og_df.copy()\r\n",
        "for col_name in df.columns:\r\n",
        "    display(pd.DataFrame(df[col_name].value_counts()))\r\n",
        "    clear_output()"
      ],
      "execution_count": 23,
      "outputs": []
    },
    {
      "cell_type": "code",
      "metadata": {
        "id": "fDOTLaUd1bOS"
      },
      "source": [
        "SMALL_SIZE = 14\r\n",
        "MEDIUM_SIZE = 16\r\n",
        "BIGGER_SIZE = 22\r\n",
        "#set font sizes\r\n",
        "plt.rc('font', size=SMALL_SIZE)          # controls default text sizes\r\n",
        "plt.rc('axes', titlesize=BIGGER_SIZE)    # fontsize of the axes title\r\n",
        "plt.rc('axes', labelsize=BIGGER_SIZE)    # fontsize of the x and y labels\r\n",
        "plt.rc('xtick', labelsize=SMALL_SIZE)    # fontsize of the tick labels\r\n",
        "plt.rc('ytick', labelsize=SMALL_SIZE)    # fontsize of the tick labels\r\n",
        "plt.rc('legend', fontsize=SMALL_SIZE)    # legend fontsize\r\n",
        "plt.rc('figure', titlesize=BIGGER_SIZE)  # fontsize of the figure title\r\n",
        "#set figure size\r\n",
        "plt.rcParams['figure.figsize'] = (15, 10)"
      ],
      "execution_count": 61,
      "outputs": []
    },
    {
      "cell_type": "code",
      "metadata": {
        "colab": {
          "base_uri": "https://localhost:8080/",
          "height": 1000,
          "referenced_widgets": [
            "eb3a66dbef2f47a398b18138a23352f2",
            "dba99f0c68a94fae818ebd8935444030",
            "77e97c13828f4eb8a28c8fd524290852",
            "fae01a3c31504c18ba0844239b11e160",
            "43f398ab25fc4ed89d94edea083936b4",
            "20523e87742740af8115450b0f33573a",
            "4609e7fed5d74737b2b871d669e69cb7",
            "7a07a3596a6f4a98a99675479ebe783f",
            "38b961396c7e46dcbb0bc9592735a3fc",
            "03701335fec8424a9bd941ed6392f4de"
          ]
        },
        "id": "GAxnuLTu1cBH",
        "outputId": "9a8f1f28-a0a7-418b-9780-86620dd09a99"
      },
      "source": [
        "BDTK(df).interactive_col_dist()\r\n",
        "plt.xticks(rotation=75)"
      ],
      "execution_count": 62,
      "outputs": [
        {
          "output_type": "display_data",
          "data": {
            "application/vnd.jupyter.widget-view+json": {
              "model_id": "eb3a66dbef2f47a398b18138a23352f2",
              "version_minor": 0,
              "version_major": 2
            },
            "text/plain": [
              "interactive(children=(Dropdown(description='base_column', options=('actual ', 'result'), value='actual '), Dro…"
            ]
          },
          "metadata": {
            "tags": []
          }
        },
        {
          "output_type": "execute_result",
          "data": {
            "text/plain": [
              "(array([0. , 0.2, 0.4, 0.6, 0.8, 1. ]),\n",
              " <a list of 6 Text major ticklabel objects>)"
            ]
          },
          "metadata": {
            "tags": []
          },
          "execution_count": 62
        },
        {
          "output_type": "display_data",
          "data": {
            "image/png": "[encoded data removed]",
            "text/plain": [
              "<Figure size 1008x576 with 1 Axes>"
            ]
          },
          "metadata": {
            "tags": [],
            "needs_background": "light"
          }
        }
      ]
    },
    {
      "cell_type": "code",
      "metadata": {
        "id": "v8AB8qdk12hT"
      },
      "source": [
        "amount_freq = df['GrossSoldQuantity'].value_counts()\r\n",
        "# sns.barplot   (x=amount_freq.index.values, orient='vertical')"
      ],
      "execution_count": 26,
      "outputs": []
    },
    {
      "cell_type": "code",
      "metadata": {
        "colab": {
          "base_uri": "https://localhost:8080/",
          "height": 587
        },
        "id": "mXRcCndj2A0g",
        "outputId": "9e0d80f9-98e0-43bb-d34a-8467c51f1855"
      },
      "source": [
        "custom_bins = np.arange(-2.5, 502.5+1, 5)\r\n",
        "sns.distplot(df['GrossSoldQuantity'], bins=custom_bins, \r\n",
        "             hist_kws={'histtype': 'bar', 'ec': 'black'}, color='red',\r\n",
        "             kde_kws={'bw_method': 0.1, 'cut': 0.5,\r\n",
        "                      'color': 'blue', 'label': 'KDE of the Number of Employees',},\r\n",
        "             label='Density of the Number of Employees')\r\n",
        "plt.title('The Distribution of Hotdogs Sold')\r\n",
        "plt.xlabel('Number of Hotdogs Sold Counts')\r\n",
        "plt.ylabel('Density')\r\n",
        "plt.grid()\r\n",
        "plt.legend()\r\n",
        "None"
      ],
      "execution_count": 38,
      "outputs": [
        {
          "output_type": "stream",
          "text": [
            "/usr/local/lib/python3.6/dist-packages/seaborn/distributions.py:2557: FutureWarning: `distplot` is a deprecated function and will be removed in a future version. Please adapt your code to use either `displot` (a figure-level function with similar flexibility) or `histplot` (an axes-level function for histograms).\n",
            "  warnings.warn(msg, FutureWarning)\n"
          ],
          "name": "stderr"
        },
        {
          "output_type": "display_data",
          "data": {
            "image/png": "[encoded data removed]",
            "text/plain": [
              "<Figure size 1008x576 with 1 Axes>"
            ]
          },
          "metadata": {
            "tags": [],
            "needs_background": "light"
          }
        }
      ]
    },
    {
      "cell_type": "code",
      "metadata": {
        "colab": {
          "base_uri": "https://localhost:8080/",
          "height": 541
        },
        "id": "FCiSNq395MIZ",
        "outputId": "8df606b9-b1be-483e-e71f-3f525b326790"
      },
      "source": [
        "dates = (df['dayOfTheYear'])\r\n",
        "sns.histplot(dates, label='PPP Loans Approved (Daily Count)', color='red')\r\n",
        "unique_dates = np.unique(dates)\r\n",
        "plt.plot(unique_dates, np.ones(len(unique_dates)) * (58000/365), color='blue')\r\n",
        "plt.xticks(rotation=20)\r\n",
        "plt.yscale('log')\r\n",
        "plt.title('Sold vs Days')\r\n",
        "plt.xlabel('Days Past')\r\n",
        "plt.ylabel('Log of Number of Items Sold')\r\n",
        "plt.grid(which='major', axis='y')\r\n",
        "plt.grid(which='minor', axis='y', alpha=0.15)\r\n",
        "None"
      ],
      "execution_count": 41,
      "outputs": [
        {
          "output_type": "display_data",
          "data": {
            "image/png": "[encoded data removed]",
            "text/plain": [
              "<Figure size 1008x576 with 1 Axes>"
            ]
          },
          "metadata": {
            "tags": [],
            "needs_background": "light"
          }
        }
      ]
    },
    {
      "cell_type": "code",
      "metadata": {
        "colab": {
          "base_uri": "https://localhost:8080/",
          "height": 541
        },
        "id": "WFyNK2kK54M2",
        "outputId": "4e06d924-85ce-42ae-fb26-5fd102f9c0e0"
      },
      "source": [
        ""
      ],
      "execution_count": 45,
      "outputs": [
        {
          "output_type": "display_data",
          "data": {
            "image/png": "[encoded data removed]",
            "text/plain": [
              "<Figure size 1008x576 with 1 Axes>"
            ]
          },
          "metadata": {
            "tags": [],
            "needs_background": "light"
          }
        }
      ]
    },
    {
      "cell_type": "code",
      "metadata": {
        "colab": {
          "base_uri": "https://localhost:8080/",
          "height": 419
        },
        "id": "6WqDLHPR8izs",
        "outputId": "2a696f03-6506-4456-ea4e-4e56c27fc99e"
      },
      "source": [
        "import sklearn\r\n",
        "from sklearn import svm\r\n",
        "regressor = sklearn.svm.SVC()\r\n",
        "regressor.fit(X_train, y_train)\r\n",
        "y_pred = regressor.predict(X_test)\r\n",
        "df = pd.DataFrame({'actual ': y_test, 'result': y_pred})\r\n",
        "(df)"
      ],
      "execution_count": 58,
      "outputs": [
        {
          "output_type": "execute_result",
          "data": {
            "text/html": [
              "<div>\n",
              "<style scoped>\n",
              "    .dataframe tbody tr th:only-of-type {\n",
              "        vertical-align: middle;\n",
              "    }\n",
              "\n",
              "    .dataframe tbody tr th {\n",
              "        vertical-align: top;\n",
              "    }\n",
              "\n",
              "    .dataframe thead th {\n",
              "        text-align: right;\n",
              "    }\n",
              "</style>\n",
              "<table border=\"1\" class=\"dataframe\">\n",
              "  <thead>\n",
              "    <tr style=\"text-align: right;\">\n",
              "      <th></th>\n",
              "      <th>actual</th>\n",
              "      <th>result</th>\n",
              "    </tr>\n",
              "  </thead>\n",
              "  <tbody>\n",
              "    <tr>\n",
              "      <th>4316</th>\n",
              "      <td>46</td>\n",
              "      <td>30</td>\n",
              "    </tr>\n",
              "    <tr>\n",
              "      <th>2892</th>\n",
              "      <td>31</td>\n",
              "      <td>5</td>\n",
              "    </tr>\n",
              "    <tr>\n",
              "      <th>1157</th>\n",
              "      <td>3</td>\n",
              "      <td>5</td>\n",
              "    </tr>\n",
              "    <tr>\n",
              "      <th>236</th>\n",
              "      <td>8</td>\n",
              "      <td>5</td>\n",
              "    </tr>\n",
              "    <tr>\n",
              "      <th>1340</th>\n",
              "      <td>21</td>\n",
              "      <td>5</td>\n",
              "    </tr>\n",
              "    <tr>\n",
              "      <th>...</th>\n",
              "      <td>...</td>\n",
              "      <td>...</td>\n",
              "    </tr>\n",
              "    <tr>\n",
              "      <th>468</th>\n",
              "      <td>61</td>\n",
              "      <td>5</td>\n",
              "    </tr>\n",
              "    <tr>\n",
              "      <th>3904</th>\n",
              "      <td>55</td>\n",
              "      <td>5</td>\n",
              "    </tr>\n",
              "    <tr>\n",
              "      <th>3476</th>\n",
              "      <td>6</td>\n",
              "      <td>5</td>\n",
              "    </tr>\n",
              "    <tr>\n",
              "      <th>926</th>\n",
              "      <td>7</td>\n",
              "      <td>5</td>\n",
              "    </tr>\n",
              "    <tr>\n",
              "      <th>3610</th>\n",
              "      <td>3</td>\n",
              "      <td>5</td>\n",
              "    </tr>\n",
              "  </tbody>\n",
              "</table>\n",
              "<p>1132 rows × 2 columns</p>\n",
              "</div>"
            ],
            "text/plain": [
              "      actual   result\n",
              "4316       46      30\n",
              "2892       31       5\n",
              "1157        3       5\n",
              "236         8       5\n",
              "1340       21       5\n",
              "...       ...     ...\n",
              "468        61       5\n",
              "3904       55       5\n",
              "3476        6       5\n",
              "926         7       5\n",
              "3610        3       5\n",
              "\n",
              "[1132 rows x 2 columns]"
            ]
          },
          "metadata": {
            "tags": []
          },
          "execution_count": 58
        }
      ]
    },
    {
      "cell_type": "code",
      "metadata": {
        "colab": {
          "base_uri": "https://localhost:8080/"
        },
        "id": "E97vqumB714i",
        "outputId": "1561cf52-a072-4e79-ec4b-9aff6bf0dfb0"
      },
      "source": [
        "from sklearn                        import metrics, svm\r\n",
        "from sklearn.linear_model           import LinearRegression\r\n",
        "from sklearn.linear_model           import LogisticRegression\r\n",
        "from sklearn.tree                   import DecisionTreeClassifier\r\n",
        "from sklearn.neighbors              import KNeighborsClassifier\r\n",
        "from sklearn.discriminant_analysis  import LinearDiscriminantAnalysis\r\n",
        "from sklearn.naive_bayes            import GaussianNB\r\n",
        "from sklearn.svm                    import SVC\r\n",
        "\r\n",
        "\r\n",
        "\r\n",
        "clf = LinearRegression()\r\n",
        "clf.fit(X_train, y_train)\r\n",
        "print(\"LinearRegression\")\r\n",
        "print(clf.predict(X_test))\r\n",
        "\r\n",
        "clf = svm.SVR()\r\n",
        "clf.fit(X_train, y_train)\r\n",
        "print(\"SVM\")\r\n",
        "print(clf.predict(X_test))\r\n",
        "\r\n",
        "\r\n",
        "clf = LinearDiscriminantAnalysis()\r\n",
        "clf.fit(X_train, y_train)\r\n",
        "print(\"LDA\")\r\n",
        "print(clf.predict(X_test))"
      ],
      "execution_count": 55,
      "outputs": [
        {
          "output_type": "stream",
          "text": [
            "LinearRegression\n",
            "[44.21734606 25.93129705  0.86745015 ... 25.52495407  1.03380533\n",
            " 15.84602137]\n",
            "SVM\n",
            "[36.12342384 13.07986937  8.91394353 ... 12.93348485  8.88777928\n",
            " 12.91455227]\n",
            "LDA\n",
            "[42  5  5 ...  5  5  5]\n"
          ],
          "name": "stdout"
        }
      ]
    },
    {
      "cell_type": "code",
      "metadata": {
        "id": "MaPaumoM8hnw"
      },
      "source": [
        ""
      ],
      "execution_count": null,
      "outputs": []
    },
    {
      "cell_type": "code",
      "metadata": {
        "colab": {
          "base_uri": "https://localhost:8080/"
        },
        "id": "GVGQeO5g8JuQ",
        "outputId": "9b73c386-597b-4228-a6c0-20b06d471eda"
      },
      "source": [
        "clf = GaussianNB()\r\n",
        "clf.fit(X_train, y_train)\r\n",
        "print(\"Gaussian\")\r\n",
        "print(clf.predict(X_test))\r\n",
        "\r\n",
        "clf = SVC()\r\n",
        "clf.fit(X_train, y_train)\r\n",
        "print(\"SVC\")\r\n",
        "print(clf.predict(X_test))"
      ],
      "execution_count": 56,
      "outputs": [
        {
          "output_type": "stream",
          "text": [
            "Gaussian\n",
            "[103   5   6 ...   5   5   5]\n",
            "SVC\n",
            "[30  5  5 ...  5  5  5]\n"
          ],
          "name": "stdout"
        }
      ]
    },
    {
      "cell_type": "code",
      "metadata": {
        "colab": {
          "base_uri": "https://localhost:8080/",
          "height": 419
        },
        "id": "npvkR4Y-8S6E",
        "outputId": "0f03f189-a893-4f36-f3cc-411cf4563212"
      },
      "source": [
        ""
      ],
      "execution_count": 57,
      "outputs": [
        {
          "output_type": "execute_result",
          "data": {
            "text/html": [
              "<div>\n",
              "<style scoped>\n",
              "    .dataframe tbody tr th:only-of-type {\n",
              "        vertical-align: middle;\n",
              "    }\n",
              "\n",
              "    .dataframe tbody tr th {\n",
              "        vertical-align: top;\n",
              "    }\n",
              "\n",
              "    .dataframe thead th {\n",
              "        text-align: right;\n",
              "    }\n",
              "</style>\n",
              "<table border=\"1\" class=\"dataframe\">\n",
              "  <thead>\n",
              "    <tr style=\"text-align: right;\">\n",
              "      <th></th>\n",
              "      <th>actual</th>\n",
              "      <th>result</th>\n",
              "    </tr>\n",
              "  </thead>\n",
              "  <tbody>\n",
              "    <tr>\n",
              "      <th>4316</th>\n",
              "      <td>46</td>\n",
              "      <td>30</td>\n",
              "    </tr>\n",
              "    <tr>\n",
              "      <th>2892</th>\n",
              "      <td>31</td>\n",
              "      <td>5</td>\n",
              "    </tr>\n",
              "    <tr>\n",
              "      <th>1157</th>\n",
              "      <td>3</td>\n",
              "      <td>5</td>\n",
              "    </tr>\n",
              "    <tr>\n",
              "      <th>236</th>\n",
              "      <td>8</td>\n",
              "      <td>5</td>\n",
              "    </tr>\n",
              "    <tr>\n",
              "      <th>1340</th>\n",
              "      <td>21</td>\n",
              "      <td>5</td>\n",
              "    </tr>\n",
              "    <tr>\n",
              "      <th>...</th>\n",
              "      <td>...</td>\n",
              "      <td>...</td>\n",
              "    </tr>\n",
              "    <tr>\n",
              "      <th>468</th>\n",
              "      <td>61</td>\n",
              "      <td>5</td>\n",
              "    </tr>\n",
              "    <tr>\n",
              "      <th>3904</th>\n",
              "      <td>55</td>\n",
              "      <td>5</td>\n",
              "    </tr>\n",
              "    <tr>\n",
              "      <th>3476</th>\n",
              "      <td>6</td>\n",
              "      <td>5</td>\n",
              "    </tr>\n",
              "    <tr>\n",
              "      <th>926</th>\n",
              "      <td>7</td>\n",
              "      <td>5</td>\n",
              "    </tr>\n",
              "    <tr>\n",
              "      <th>3610</th>\n",
              "      <td>3</td>\n",
              "      <td>5</td>\n",
              "    </tr>\n",
              "  </tbody>\n",
              "</table>\n",
              "<p>1132 rows × 2 columns</p>\n",
              "</div>"
            ],
            "text/plain": [
              "      actual   result\n",
              "4316       46      30\n",
              "2892       31       5\n",
              "1157        3       5\n",
              "236         8       5\n",
              "1340       21       5\n",
              "...       ...     ...\n",
              "468        61       5\n",
              "3904       55       5\n",
              "3476        6       5\n",
              "926         7       5\n",
              "3610        3       5\n",
              "\n",
              "[1132 rows x 2 columns]"
            ]
          },
          "metadata": {
            "tags": []
          },
          "execution_count": 57
        }
      ]
    },
    {
      "cell_type": "code",
      "metadata": {
        "colab": {
          "base_uri": "https://localhost:8080/"
        },
        "id": "WLr14F1t6rPe",
        "outputId": "f9be207b-9f04-43c0-e99f-cfa8531d6291"
      },
      "source": [
        "from sklearn.model_selection import train_test_split\r\n",
        "from sklearn.metrics import accuracy_score\r\n",
        "from sklearn.ensemble import RandomForestClassifier\r\n",
        "import pickle\r\n",
        "import numpy as np\r\n",
        "import pandas as pd\r\n",
        "\r\n",
        "from sklearn.model_selection import train_test_split\r\n",
        "X = og_df.drop(['City', 'State', 'GrossSoldQuantity'], axis=1) \r\n",
        " \r\n",
        "y = og_df['GrossSoldQuantity']\r\n",
        "X_train, X_test, y_train, y_test = train_test_split(X, y,test_size=0.2)\r\n",
        "classifier = RandomForestClassifier(n_estimators = 50, criterion = 'entropy', random_state = 0)\r\n",
        "classifier.fit(X_train, y_train)\r\n",
        "pred = classifier.predict(X_test)\r\n",
        "\r\n",
        "accuracy = accuracy_score(y_test, pred)\r\n",
        "print(\"accuracy: \" + str(accuracy*100) + \"%\")"
      ],
      "execution_count": 54,
      "outputs": [
        {
          "output_type": "stream",
          "text": [
            "accuracy: 99.85689%\n"
          ],
          "name": "stdout"
        }
      ]
    }
  ]
}